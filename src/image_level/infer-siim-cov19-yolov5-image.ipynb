{
 "cells": [
  {
   "cell_type": "markdown",
   "id": "relative-scale",
   "metadata": {
    "papermill": {
     "duration": 0.028675,
     "end_time": "2021-06-27T12:43:13.949668",
     "exception": false,
     "start_time": "2021-06-27T12:43:13.920993",
     "status": "completed"
    },
    "tags": []
   },
   "source": [
    "thanks to https://www.kaggle.com/xhlulu/siim-covid-19-convert-to-jpg-256px  \n",
    "thanks to https://www.kaggle.com/awsaf49/vinbigdata-cxr-ad-yolov5-14-class-infer  \n",
    "train_study: https://www.kaggle.com/h053473666/siim-covid19-efnb7-train-study  \n",
    "train_image: https://www.kaggle.com/h053473666/siim-cov19-yolov5-train  \n",
    "train_2class: https://www.kaggle.com/h053473666/siim-covid19-efnb7-train-fold0-5-2class  \n",
    "  \n",
    "version1:Original hyperparameters (yolov5)  \n",
    "version4:New hyperparameters (yolov5)\n"
   ]
  },
  {
   "cell_type": "code",
   "execution_count": 1,
   "id": "aboriginal-precipitation",
   "metadata": {
    "execution": {
     "iopub.execute_input": "2021-06-27T12:43:14.010909Z",
     "iopub.status.busy": "2021-06-27T12:43:14.009881Z",
     "iopub.status.idle": "2021-06-27T12:43:14.011444Z",
     "shell.execute_reply": "2021-06-27T12:43:14.011841Z",
     "shell.execute_reply.started": "2021-06-27T12:39:10.987133Z"
    },
    "papermill": {
     "duration": 0.035454,
     "end_time": "2021-06-27T12:43:14.012033",
     "exception": false,
     "start_time": "2021-06-27T12:43:13.976579",
     "status": "completed"
    },
    "tags": []
   },
   "outputs": [],
   "source": [
    "# -------------package---------------\n",
    "# efficientnet-keras-source-code\n",
    "# kerasapplications\n",
    "# pydicom-conda-helper : pydicom 특정 파일들 unzip\n",
    "\n",
    "# --------------model----------------\n",
    "# yolov5-official-v31-dataset : yolo package\n",
    "# efnb7 train study_level\n",
    "# efnb7 train 2 classes"
   ]
  },
  {
   "cell_type": "code",
   "execution_count": 2,
   "id": "direct-ecuador",
   "metadata": {
    "_kg_hide-input": true,
    "_kg_hide-output": true,
    "execution": {
     "iopub.execute_input": "2021-06-27T12:43:14.080370Z",
     "iopub.status.busy": "2021-06-27T12:43:14.079845Z",
     "iopub.status.idle": "2021-06-27T12:44:21.840107Z",
     "shell.execute_reply": "2021-06-27T12:44:21.839622Z",
     "shell.execute_reply.started": "2021-06-27T12:39:10.994168Z"
    },
    "papermill": {
     "duration": 67.801619,
     "end_time": "2021-06-27T12:44:21.840248",
     "exception": false,
     "start_time": "2021-06-27T12:43:14.038629",
     "status": "completed"
    },
    "tags": []
   },
   "outputs": [
    {
     "name": "stdout",
     "output_type": "stream",
     "text": [
      "\r\n",
      "Downloading and Extracting Packages\r\n",
      "######################################################################## | 100% \r\n",
      "Preparing transaction: - \b\bdone\r\n",
      "Verifying transaction: | \b\bdone\r\n",
      "Executing transaction: - \b\b\\ \b\bdone\r\n",
      "\r\n",
      "Downloading and Extracting Packages\r\n",
      "######################################################################## | 100% \r\n",
      "Preparing transaction: - \b\bdone\r\n",
      "Verifying transaction: | \b\bdone\r\n",
      "Executing transaction: - \b\b\\ \b\b| \b\bdone\r\n",
      "\r\n",
      "Downloading and Extracting Packages\r\n",
      "######################################################################## | 100% \r\n",
      "Preparing transaction: - \b\bdone\r\n",
      "Verifying transaction: | \b\bdone\r\n",
      "Executing transaction: - \b\bdone\r\n",
      "\r\n",
      "Downloading and Extracting Packages\r\n",
      "######################################################################## | 100% \r\n",
      "Preparing transaction: - \b\bdone\r\n",
      "Verifying transaction: | \b\bdone\r\n",
      "Executing transaction: - \b\b\\ \b\b| \b\b/ \b\b- \b\b\\ \b\b| \b\b/ \b\b- \b\b\\ \b\b| \b\b/ \b\b- \b\b\\ \b\b| \b\b/ \b\b- \b\b\\ \b\b| \b\b/ \b\bdone\r\n",
      "\r\n",
      "Downloading and Extracting Packages\r\n",
      "######################################################################## | 100% \r\n",
      "Preparing transaction: - \b\bdone\r\n",
      "Verifying transaction: | \b\bdone\r\n",
      "Executing transaction: - \b\bdone\r\n",
      "\r\n",
      "Downloading and Extracting Packages\r\n",
      "######################################################################## | 100% \r\n",
      "Preparing transaction: - \b\bdone\r\n",
      "Verifying transaction: | \b\bdone\r\n",
      "Executing transaction: - \b\b\\ \b\b| \b\b/ \b\b- \b\b\\ \b\bdone\r\n"
     ]
    }
   ],
   "source": [
    "!conda install '/kaggle/input/pydicom-conda-helper/libjpeg-turbo-2.1.0-h7f98852_0.tar.bz2' -c conda-forge -y\n",
    "!conda install '/kaggle/input/pydicom-conda-helper/libgcc-ng-9.3.0-h2828fa1_19.tar.bz2' -c conda-forge -y\n",
    "!conda install '/kaggle/input/pydicom-conda-helper/gdcm-2.8.9-py37h500ead1_1.tar.bz2' -c conda-forge -y\n",
    "!conda install '/kaggle/input/pydicom-conda-helper/conda-4.10.1-py37h89c1867_0.tar.bz2' -c conda-forge -y\n",
    "!conda install '/kaggle/input/pydicom-conda-helper/certifi-2020.12.5-py37h89c1867_1.tar.bz2' -c conda-forge -y\n",
    "!conda install '/kaggle/input/pydicom-conda-helper/openssl-1.1.1k-h7f98852_0.tar.bz2' -c conda-forge -y"
   ]
  },
  {
   "cell_type": "code",
   "execution_count": 3,
   "id": "precious-marina",
   "metadata": {
    "_cell_guid": "b1076dfc-b9ad-4769-8c92-a6c4dae69d19",
    "_uuid": "8f2839f25d086af736a60e9eeb907d3b93b6e0e5",
    "execution": {
     "iopub.execute_input": "2021-06-27T12:44:21.930087Z",
     "iopub.status.busy": "2021-06-27T12:44:21.929532Z",
     "iopub.status.idle": "2021-06-27T12:44:22.569701Z",
     "shell.execute_reply": "2021-06-27T12:44:22.568802Z",
     "shell.execute_reply.started": "2021-06-27T12:40:20.462846Z"
    },
    "papermill": {
     "duration": 0.687103,
     "end_time": "2021-06-27T12:44:22.569866",
     "exception": false,
     "start_time": "2021-06-27T12:44:21.882763",
     "status": "completed"
    },
    "tags": []
   },
   "outputs": [],
   "source": [
    "import os\n",
    "from PIL import Image\n",
    "import pandas as pd\n",
    "from tqdm.auto import tqdm\n",
    "import numpy as np\n",
    "import matplotlib.pyplot as plt\n",
    "import seaborn as sns\n",
    "from glob import glob"
   ]
  },
  {
   "cell_type": "code",
   "execution_count": 4,
   "id": "regulated-performer",
   "metadata": {
    "execution": {
     "iopub.execute_input": "2021-06-27T12:44:22.661845Z",
     "iopub.status.busy": "2021-06-27T12:44:22.661307Z",
     "iopub.status.idle": "2021-06-27T12:44:22.691219Z",
     "shell.execute_reply": "2021-06-27T12:44:22.691948Z",
     "shell.execute_reply.started": "2021-06-27T12:40:21.079043Z"
    },
    "papermill": {
     "duration": 0.079355,
     "end_time": "2021-06-27T12:44:22.692086",
     "exception": false,
     "start_time": "2021-06-27T12:44:22.612731",
     "status": "completed"
    },
    "tags": []
   },
   "outputs": [
    {
     "data": {
      "text/html": [
       "<div>\n",
       "<style scoped>\n",
       "    .dataframe tbody tr th:only-of-type {\n",
       "        vertical-align: middle;\n",
       "    }\n",
       "\n",
       "    .dataframe tbody tr th {\n",
       "        vertical-align: top;\n",
       "    }\n",
       "\n",
       "    .dataframe thead th {\n",
       "        text-align: right;\n",
       "    }\n",
       "</style>\n",
       "<table border=\"1\" class=\"dataframe\">\n",
       "  <thead>\n",
       "    <tr style=\"text-align: right;\">\n",
       "      <th></th>\n",
       "      <th>id</th>\n",
       "      <th>PredictionString</th>\n",
       "    </tr>\n",
       "  </thead>\n",
       "  <tbody>\n",
       "    <tr>\n",
       "      <th>0</th>\n",
       "      <td>00188a671292_study</td>\n",
       "      <td>negative 1 0 0 1 1</td>\n",
       "    </tr>\n",
       "    <tr>\n",
       "      <th>1</th>\n",
       "      <td>004bd59708be_study</td>\n",
       "      <td>negative 1 0 0 1 1</td>\n",
       "    </tr>\n",
       "    <tr>\n",
       "      <th>2</th>\n",
       "      <td>00508faccd39_study</td>\n",
       "      <td>negative 1 0 0 1 1</td>\n",
       "    </tr>\n",
       "    <tr>\n",
       "      <th>3</th>\n",
       "      <td>006486aa80b2_study</td>\n",
       "      <td>negative 1 0 0 1 1</td>\n",
       "    </tr>\n",
       "    <tr>\n",
       "      <th>4</th>\n",
       "      <td>00655178fdfc_study</td>\n",
       "      <td>negative 1 0 0 1 1</td>\n",
       "    </tr>\n",
       "    <tr>\n",
       "      <th>...</th>\n",
       "      <td>...</td>\n",
       "      <td>...</td>\n",
       "    </tr>\n",
       "    <tr>\n",
       "      <th>2472</th>\n",
       "      <td>46719b856de1_image</td>\n",
       "      <td>none 1 0 0 1 1</td>\n",
       "    </tr>\n",
       "    <tr>\n",
       "      <th>2473</th>\n",
       "      <td>31c07523a69a_image</td>\n",
       "      <td>none 1 0 0 1 1</td>\n",
       "    </tr>\n",
       "    <tr>\n",
       "      <th>2474</th>\n",
       "      <td>f77d7d1aebab_image</td>\n",
       "      <td>none 1 0 0 1 1</td>\n",
       "    </tr>\n",
       "    <tr>\n",
       "      <th>2475</th>\n",
       "      <td>ccc5b63ca96d_image</td>\n",
       "      <td>none 1 0 0 1 1</td>\n",
       "    </tr>\n",
       "    <tr>\n",
       "      <th>2476</th>\n",
       "      <td>5e8ac1fe2b82_image</td>\n",
       "      <td>none 1 0 0 1 1</td>\n",
       "    </tr>\n",
       "  </tbody>\n",
       "</table>\n",
       "<p>2477 rows × 2 columns</p>\n",
       "</div>"
      ],
      "text/plain": [
       "                      id    PredictionString\n",
       "0     00188a671292_study  negative 1 0 0 1 1\n",
       "1     004bd59708be_study  negative 1 0 0 1 1\n",
       "2     00508faccd39_study  negative 1 0 0 1 1\n",
       "3     006486aa80b2_study  negative 1 0 0 1 1\n",
       "4     00655178fdfc_study  negative 1 0 0 1 1\n",
       "...                  ...                 ...\n",
       "2472  46719b856de1_image      none 1 0 0 1 1\n",
       "2473  31c07523a69a_image      none 1 0 0 1 1\n",
       "2474  f77d7d1aebab_image      none 1 0 0 1 1\n",
       "2475  ccc5b63ca96d_image      none 1 0 0 1 1\n",
       "2476  5e8ac1fe2b82_image      none 1 0 0 1 1\n",
       "\n",
       "[2477 rows x 2 columns]"
      ]
     },
     "execution_count": 4,
     "metadata": {},
     "output_type": "execute_result"
    }
   ],
   "source": [
    "df = pd.read_csv(\"../input/siim-covid19-detection/sample_submission.csv\")\n",
    "df"
   ]
  },
  {
   "cell_type": "markdown",
   "id": "minimal-fishing",
   "metadata": {
    "papermill": {
     "duration": 0.043276,
     "end_time": "2021-06-27T12:44:22.778220",
     "exception": false,
     "start_time": "2021-06-27T12:44:22.734944",
     "status": "completed"
    },
    "tags": []
   },
   "source": [
    "현재 test set 은 public test set. length = 2477    \n",
    "여기서는 public test set 으로 테스트할 때는 작동되는지만 확인하기 위해 일부만 추출해서 시간을 줄인다.   \n",
    "실제 제출할 때는 private test set 이 주어지므로 (length /= 2477) 그것을 불러와서 예측하게 된다."
   ]
  },
  {
   "cell_type": "code",
   "execution_count": 5,
   "id": "trained-thumbnail",
   "metadata": {
    "execution": {
     "iopub.execute_input": "2021-06-27T12:44:22.870069Z",
     "iopub.status.busy": "2021-06-27T12:44:22.869342Z",
     "iopub.status.idle": "2021-06-27T12:44:22.871993Z",
     "shell.execute_reply": "2021-06-27T12:44:22.871588Z",
     "shell.execute_reply.started": "2021-06-27T12:40:21.117284Z"
    },
    "papermill": {
     "duration": 0.050833,
     "end_time": "2021-06-27T12:44:22.872098",
     "exception": false,
     "start_time": "2021-06-27T12:44:22.821265",
     "status": "completed"
    },
    "tags": []
   },
   "outputs": [],
   "source": [
    "# fast_df = df.copy()\n",
    "# fast_sub = False\n",
    "if df.shape[0] == 2477:\n",
    "    fast_sub = True\n",
    "    fast_df = pd.DataFrame(([['00086460a852_study', 'negative 1 0 0 1 1'], \n",
    "                             ['000c9c05fd14_study', 'negative 1 0 0 1 1'], \n",
    "                             ['65761e66de9f_image', 'none 1 0 0 1 1'], \n",
    "                             ['51759b5579bc_image', 'none 1 0 0 1 1']]), \n",
    "                           columns=['id', 'PredictionString'])\n",
    "else:\n",
    "    fast_sub = False"
   ]
  },
  {
   "cell_type": "markdown",
   "id": "polyphonic-ideal",
   "metadata": {
    "papermill": {
     "duration": 0.042684,
     "end_time": "2021-06-27T12:44:22.959798",
     "exception": false,
     "start_time": "2021-06-27T12:44:22.917114",
     "status": "completed"
    },
    "tags": []
   },
   "source": [
    "# .dcm to .png"
   ]
  },
  {
   "cell_type": "code",
   "execution_count": 6,
   "id": "loaded-council",
   "metadata": {
    "execution": {
     "iopub.execute_input": "2021-06-27T12:44:23.052682Z",
     "iopub.status.busy": "2021-06-27T12:44:23.052068Z",
     "iopub.status.idle": "2021-06-27T12:44:23.195987Z",
     "shell.execute_reply": "2021-06-27T12:44:23.195509Z",
     "shell.execute_reply.started": "2021-06-27T12:40:21.125027Z"
    },
    "papermill": {
     "duration": 0.193397,
     "end_time": "2021-06-27T12:44:23.196114",
     "exception": false,
     "start_time": "2021-06-27T12:44:23.002717",
     "status": "completed"
    },
    "tags": []
   },
   "outputs": [],
   "source": [
    "import numpy as np\n",
    "import pydicom\n",
    "from pydicom.pixel_data_handlers.util import apply_voi_lut\n",
    "\n",
    "def read_xray(path, voi_lut = True, fix_monochrome = True):\n",
    "    # Original from: https://www.kaggle.com/raddar/convert-dicom-to-np-array-the-correct-way\n",
    "    dicom = pydicom.read_file(path)\n",
    "    \n",
    "    # VOI LUT (if available by DICOM device) is used to transform raw DICOM data to \n",
    "    # \"human-friendly\" view\n",
    "    if voi_lut:\n",
    "        data = apply_voi_lut(dicom.pixel_array, dicom)\n",
    "    else:\n",
    "        data = dicom.pixel_array\n",
    "               \n",
    "    # depending on this value, X-ray may look inverted - fix that:\n",
    "    if fix_monochrome and dicom.PhotometricInterpretation == \"MONOCHROME1\":\n",
    "        data = np.amax(data) - data\n",
    "        \n",
    "    data = data - np.min(data)\n",
    "    data = data / np.max(data)\n",
    "    data = (data * 255).astype(np.uint8)\n",
    "        \n",
    "    return data"
   ]
  },
  {
   "cell_type": "code",
   "execution_count": 7,
   "id": "german-correction",
   "metadata": {
    "execution": {
     "iopub.execute_input": "2021-06-27T12:44:23.287306Z",
     "iopub.status.busy": "2021-06-27T12:44:23.286605Z",
     "iopub.status.idle": "2021-06-27T12:44:23.289352Z",
     "shell.execute_reply": "2021-06-27T12:44:23.288917Z",
     "shell.execute_reply.started": "2021-06-27T12:40:21.382633Z"
    },
    "papermill": {
     "duration": 0.050152,
     "end_time": "2021-06-27T12:44:23.289465",
     "exception": false,
     "start_time": "2021-06-27T12:44:23.239313",
     "status": "completed"
    },
    "tags": []
   },
   "outputs": [],
   "source": [
    "def resize(array, size, keep_ratio=False, resample=Image.LANCZOS):\n",
    "    # Original from: https://www.kaggle.com/xhlulu/vinbigdata-process-and-resize-to-image\n",
    "    im = Image.fromarray(array)\n",
    "    \n",
    "    if keep_ratio:\n",
    "        im.thumbnail((size, size), resample)\n",
    "    else:\n",
    "        im = im.resize((size, size), resample)\n",
    "    \n",
    "    return im"
   ]
  },
  {
   "cell_type": "code",
   "execution_count": 8,
   "id": "bronze-result",
   "metadata": {
    "execution": {
     "iopub.execute_input": "2021-06-27T12:44:23.380161Z",
     "iopub.status.busy": "2021-06-27T12:44:23.379407Z",
     "iopub.status.idle": "2021-06-27T12:44:23.384554Z",
     "shell.execute_reply": "2021-06-27T12:44:23.384138Z",
     "shell.execute_reply.started": "2021-06-27T12:40:21.393285Z"
    },
    "papermill": {
     "duration": 0.05209,
     "end_time": "2021-06-27T12:44:23.384662",
     "exception": false,
     "start_time": "2021-06-27T12:44:23.332572",
     "status": "completed"
    },
    "tags": []
   },
   "outputs": [
    {
     "data": {
      "text/plain": [
       "1"
      ]
     },
     "execution_count": 8,
     "metadata": {},
     "output_type": "execute_result"
    }
   ],
   "source": [
    "split = 'test'\n",
    "save_dir = f'../tmp/{split}/'\n",
    "\n",
    "os.makedirs(save_dir, exist_ok=True)\n",
    "\n",
    "save_dir = f'../tmp/{split}/study/'\n",
    "os.makedirs(save_dir, exist_ok=True)\n",
    "\n",
    "len(glob('../tmp/*'))"
   ]
  },
  {
   "cell_type": "code",
   "execution_count": 9,
   "id": "demanding-indicator",
   "metadata": {
    "execution": {
     "iopub.execute_input": "2021-06-27T12:44:23.478027Z",
     "iopub.status.busy": "2021-06-27T12:44:23.477442Z",
     "iopub.status.idle": "2021-06-27T12:44:25.132705Z",
     "shell.execute_reply": "2021-06-27T12:44:25.132042Z",
     "shell.execute_reply.started": "2021-06-27T12:40:21.404926Z"
    },
    "papermill": {
     "duration": 1.705109,
     "end_time": "2021-06-27T12:44:25.132862",
     "exception": false,
     "start_time": "2021-06-27T12:44:23.427753",
     "status": "completed"
    },
    "tags": []
   },
   "outputs": [],
   "source": [
    "if fast_sub:\n",
    "    xray = read_xray('../input/siim-covid19-detection/train/00086460a852/9e8302230c91/65761e66de9f.dcm')\n",
    "    im = resize(xray, size=600)  \n",
    "    study = '00086460a852' + '_study.png'\n",
    "    im.save(os.path.join(save_dir, study))\n",
    "    xray = read_xray('../input/siim-covid19-detection/train/000c9c05fd14/e555410bd2cd/51759b5579bc.dcm')\n",
    "    im = resize(xray, size=600)  \n",
    "    study = '000c9c05fd14' + '_study.png'\n",
    "    im.save(os.path.join(save_dir, study))\n",
    "else:\n",
    "    for dirname, _, filenames in tqdm(os.walk(f'../input/siim-covid19-detection/{split}')):\n",
    "        for file in filenames:\n",
    "            # set keep_ratio=True to have original aspect ratio\n",
    "            xray = read_xray(os.path.join(dirname, file))\n",
    "            im = resize(xray, size=600)  \n",
    "            study = dirname.split('/')[-2] + '_study.png'\n",
    "            im.save(os.path.join(save_dir, study))"
   ]
  },
  {
   "cell_type": "code",
   "execution_count": 10,
   "id": "signal-division",
   "metadata": {
    "execution": {
     "iopub.execute_input": "2021-06-27T12:44:25.230180Z",
     "iopub.status.busy": "2021-06-27T12:44:25.229436Z",
     "iopub.status.idle": "2021-06-27T12:44:25.588766Z",
     "shell.execute_reply": "2021-06-27T12:44:25.588274Z",
     "shell.execute_reply.started": "2021-06-27T12:40:23.014654Z"
    },
    "papermill": {
     "duration": 0.412186,
     "end_time": "2021-06-27T12:44:25.588919",
     "exception": false,
     "start_time": "2021-06-27T12:44:25.176733",
     "status": "completed"
    },
    "scrolled": true,
    "tags": []
   },
   "outputs": [],
   "source": [
    "image_id = []\n",
    "dim0 = []\n",
    "dim1 = []\n",
    "splits = []\n",
    "save_dir = f'../working/tmp/{split}/image/'\n",
    "os.makedirs(save_dir, exist_ok=True)\n",
    "if fast_sub:\n",
    "    xray = read_xray('../input/siim-covid19-detection/train/00086460a852/9e8302230c91/65761e66de9f.dcm')\n",
    "    im = resize(xray, size=512)  \n",
    "    im.save(os.path.join(save_dir,'65761e66de9f_image.png'))\n",
    "    image_id.append('65761e66de9f.dcm'.replace('.dcm', ''))\n",
    "    dim0.append(xray.shape[0])\n",
    "    dim1.append(xray.shape[1])\n",
    "    splits.append(split)\n",
    "    xray = read_xray('../input/siim-covid19-detection/train/000c9c05fd14/e555410bd2cd/51759b5579bc.dcm')\n",
    "    im = resize(xray, size=512)  \n",
    "    im.save(os.path.join(save_dir, '51759b5579bc_image.png'))\n",
    "    image_id.append('51759b5579bc.dcm'.replace('.dcm', ''))\n",
    "    dim0.append(xray.shape[0])\n",
    "    dim1.append(xray.shape[1])\n",
    "    splits.append(split)\n",
    "else:\n",
    "    for dirname, _, filenames in tqdm(os.walk(f'/../input/siim-covid19-detection/{split}')):\n",
    "        for file in filenames:\n",
    "            # set keep_ratio=True to have original aspect ratio\n",
    "            xray = read_xray(os.path.join(dirname, file))\n",
    "            im = resize(xray, size=512)  \n",
    "            im.save(os.path.join(save_dir, file.replace('.dcm', '_image.png')))\n",
    "            image_id.append(file.replace('.dcm', ''))\n",
    "            dim0.append(xray.shape[0])\n",
    "            dim1.append(xray.shape[1])\n",
    "            splits.append(split)\n",
    "meta = pd.DataFrame.from_dict({'image_id': image_id, 'dim0': dim0, 'dim1': dim1, 'split': splits})"
   ]
  },
  {
   "cell_type": "markdown",
   "id": "right-weight",
   "metadata": {
    "papermill": {
     "duration": 0.04307,
     "end_time": "2021-06-27T12:44:25.675902",
     "exception": false,
     "start_time": "2021-06-27T12:44:25.632832",
     "status": "completed"
    },
    "tags": []
   },
   "source": [
    "# study predict"
   ]
  },
  {
   "cell_type": "code",
   "execution_count": 11,
   "id": "about-gamma",
   "metadata": {
    "execution": {
     "iopub.execute_input": "2021-06-27T12:44:25.777864Z",
     "iopub.status.busy": "2021-06-27T12:44:25.777264Z",
     "iopub.status.idle": "2021-06-27T12:44:25.781910Z",
     "shell.execute_reply": "2021-06-27T12:44:25.781489Z",
     "shell.execute_reply.started": "2021-06-27T12:40:23.411234Z"
    },
    "papermill": {
     "duration": 0.062908,
     "end_time": "2021-06-27T12:44:25.782013",
     "exception": false,
     "start_time": "2021-06-27T12:44:25.719105",
     "status": "completed"
    },
    "tags": []
   },
   "outputs": [
    {
     "name": "stdout",
     "output_type": "stream",
     "text": [
      "2\n"
     ]
    },
    {
     "data": {
      "text/html": [
       "<div>\n",
       "<style scoped>\n",
       "    .dataframe tbody tr th:only-of-type {\n",
       "        vertical-align: middle;\n",
       "    }\n",
       "\n",
       "    .dataframe tbody tr th {\n",
       "        vertical-align: top;\n",
       "    }\n",
       "\n",
       "    .dataframe thead th {\n",
       "        text-align: right;\n",
       "    }\n",
       "</style>\n",
       "<table border=\"1\" class=\"dataframe\">\n",
       "  <thead>\n",
       "    <tr style=\"text-align: right;\">\n",
       "      <th></th>\n",
       "      <th>id</th>\n",
       "      <th>PredictionString</th>\n",
       "      <th>id_last_str</th>\n",
       "    </tr>\n",
       "  </thead>\n",
       "  <tbody>\n",
       "    <tr>\n",
       "      <th>0</th>\n",
       "      <td>00086460a852_study</td>\n",
       "      <td>negative 1 0 0 1 1</td>\n",
       "      <td>y</td>\n",
       "    </tr>\n",
       "    <tr>\n",
       "      <th>1</th>\n",
       "      <td>000c9c05fd14_study</td>\n",
       "      <td>negative 1 0 0 1 1</td>\n",
       "      <td>y</td>\n",
       "    </tr>\n",
       "    <tr>\n",
       "      <th>2</th>\n",
       "      <td>65761e66de9f_image</td>\n",
       "      <td>none 1 0 0 1 1</td>\n",
       "      <td>e</td>\n",
       "    </tr>\n",
       "    <tr>\n",
       "      <th>3</th>\n",
       "      <td>51759b5579bc_image</td>\n",
       "      <td>none 1 0 0 1 1</td>\n",
       "      <td>e</td>\n",
       "    </tr>\n",
       "  </tbody>\n",
       "</table>\n",
       "</div>"
      ],
      "text/plain": [
       "                   id    PredictionString id_last_str\n",
       "0  00086460a852_study  negative 1 0 0 1 1           y\n",
       "1  000c9c05fd14_study  negative 1 0 0 1 1           y\n",
       "2  65761e66de9f_image      none 1 0 0 1 1           e\n",
       "3  51759b5579bc_image      none 1 0 0 1 1           e"
      ]
     },
     "execution_count": 11,
     "metadata": {},
     "output_type": "execute_result"
    }
   ],
   "source": [
    "import numpy as np \n",
    "import pandas as pd\n",
    "\n",
    "if fast_sub:\n",
    "    df = fast_df.copy()\n",
    "else:\n",
    "    df = pd.read_csv('../input/siim-covid19-detection/sample_submission.csv')\n",
    "\n",
    "id_laststr_list  = []\n",
    "for i in range(df.shape[0]):\n",
    "    id_laststr_list.append(df.loc[i,'id'][-1])\n",
    "df['id_last_str'] = id_laststr_list\n",
    "\n",
    "study_len = df[df['id_last_str'] == 'y'].shape[0]\n",
    "print(study_len)\n",
    "df"
   ]
  },
  {
   "cell_type": "code",
   "execution_count": 12,
   "id": "welsh-attachment",
   "metadata": {
    "execution": {
     "iopub.execute_input": "2021-06-27T12:44:25.910767Z",
     "iopub.status.busy": "2021-06-27T12:44:25.898358Z",
     "iopub.status.idle": "2021-06-27T12:44:25.931352Z",
     "shell.execute_reply": "2021-06-27T12:44:25.930961Z",
     "shell.execute_reply.started": "2021-06-27T12:40:23.432358Z"
    },
    "papermill": {
     "duration": 0.105781,
     "end_time": "2021-06-27T12:44:25.931475",
     "exception": false,
     "start_time": "2021-06-27T12:44:25.825694",
     "status": "completed"
    },
    "tags": []
   },
   "outputs": [],
   "source": [
    "study_predict = False\n",
    "if study_predict:\n",
    "    !pip install /kaggle/input/kerasapplications -q\n",
    "    !pip install /kaggle/input/efficientnet-keras-source-code/ -q --no-deps\n",
    "\n",
    "    import os\n",
    "    \n",
    "\n",
    "    import efficientnet.tfkeras as efn\n",
    "    import numpy as np\n",
    "    import pandas as pd\n",
    "    import tensorflow as tf\n",
    "\n",
    "    def auto_select_accelerator():\n",
    "        try:\n",
    "            tpu = tf.distribute.cluster_resolver.TPUClusterResolver()\n",
    "            tf.config.experimental_connect_to_cluster(tpu)\n",
    "            tf.tpu.experimental.initialize_tpu_system(tpu)\n",
    "            strategy = tf.distribute.experimental.TPUStrategy(tpu)\n",
    "            print(\"Running on TPU:\", tpu.master())\n",
    "        except ValueError:\n",
    "            strategy = tf.distribute.get_strategy()\n",
    "        print(f\"Running on {strategy.num_replicas_in_sync} replicas\")\n",
    "\n",
    "        return strategy\n",
    "\n",
    "\n",
    "    def build_decoder(with_labels=True, target_size=(300, 300), ext='jpg'):\n",
    "        def decode(path):\n",
    "            file_bytes = tf.io.read_file(path)\n",
    "            if ext == 'png':\n",
    "                img = tf.image.decode_png(file_bytes, channels=3)\n",
    "            elif ext in ['jpg', 'jpeg']:\n",
    "                img = tf.image.decode_jpeg(file_bytes, channels=3)\n",
    "            else:\n",
    "                raise ValueError(\"Image extension not supported\")\n",
    "\n",
    "            img = tf.cast(img, tf.float32) / 255.0\n",
    "            img = tf.image.resize(img, target_size)\n",
    "\n",
    "            return img\n",
    "\n",
    "        def decode_with_labels(path, label):\n",
    "            return decode(path), label\n",
    "\n",
    "        return decode_with_labels if with_labels else decode\n",
    "\n",
    "\n",
    "    def build_augmenter(with_labels=True):\n",
    "        def augment(img):\n",
    "            img = tf.image.random_flip_left_right(img)\n",
    "            img = tf.image.random_flip_up_down(img)\n",
    "            return img\n",
    "\n",
    "        def augment_with_labels(img, label):\n",
    "            return augment(img), label\n",
    "\n",
    "        return augment_with_labels if with_labels else augment\n",
    "\n",
    "\n",
    "    def build_dataset(paths, labels=None, bsize=32, cache=True,\n",
    "                      decode_fn=None, augment_fn=None,\n",
    "                      augment=True, repeat=True, shuffle=1024, \n",
    "                      cache_dir=\"\"):\n",
    "        if cache_dir != \"\" and cache is True:\n",
    "            os.makedirs(cache_dir, exist_ok=True)\n",
    "\n",
    "        if decode_fn is None:\n",
    "            decode_fn = build_decoder(labels is not None)\n",
    "\n",
    "        if augment_fn is None:\n",
    "            augment_fn = build_augmenter(labels is not None)\n",
    "\n",
    "        AUTO = tf.data.experimental.AUTOTUNE\n",
    "        slices = paths if labels is None else (paths, labels)\n",
    "\n",
    "        dset = tf.data.Dataset.from_tensor_slices(slices)\n",
    "        dset = dset.map(decode_fn, num_parallel_calls=AUTO)\n",
    "        dset = dset.cache(cache_dir) if cache else dset\n",
    "        dset = dset.map(augment_fn, num_parallel_calls=AUTO) if augment else dset\n",
    "        dset = dset.repeat() if repeat else dset\n",
    "        dset = dset.shuffle(shuffle) if shuffle else dset\n",
    "        dset = dset.batch(bsize).prefetch(AUTO)\n",
    "\n",
    "        return dset\n",
    "\n",
    "    #COMPETITION_NAME = \"siim-cov19-test-img512-study-600\"\n",
    "    strategy = auto_select_accelerator()\n",
    "    BATCH_SIZE = strategy.num_replicas_in_sync * 16\n",
    "\n",
    "    IMSIZE = (224, 240, 260, 300, 380, 456, 528, 600, 512)\n",
    "\n",
    "    #load_dir = f\"/kaggle/input/{COMPETITION_NAME}/\"\n",
    "    if fast_sub:\n",
    "        sub_df = fast_df.copy()\n",
    "    else:\n",
    "        sub_df = pd.read_csv('../input/siim-covid19-detection/sample_submission.csv')\n",
    "    sub_df = sub_df[:study_len]\n",
    "    test_paths = f'../tmp/{split}/study/' + sub_df['id'] +'.png'\n",
    "\n",
    "    sub_df['negative'] = 0\n",
    "    sub_df['typical'] = 0\n",
    "    sub_df['indeterminate'] = 0\n",
    "    sub_df['atypical'] = 0\n",
    "\n",
    "\n",
    "    label_cols = sub_df.columns[2:]\n",
    "\n",
    "    test_decoder = build_decoder(with_labels=False, target_size=(IMSIZE[7], IMSIZE[7]), ext='png')\n",
    "    dtest = build_dataset(\n",
    "        test_paths, bsize=BATCH_SIZE, repeat=False, \n",
    "        shuffle=False, augment=False, cache=False,\n",
    "        decode_fn=test_decoder\n",
    "    )\n",
    "\n",
    "    with strategy.scope():\n",
    "\n",
    "        models = []\n",
    "\n",
    "        models0 = tf.keras.models.load_model(\n",
    "            '../input/siim-covid19-efnb7-train-study/model0.h5'\n",
    "        )\n",
    "        models1 = tf.keras.models.load_model(\n",
    "            '../input/siim-covid19-efnb7-train-study/model1.h5'\n",
    "        )\n",
    "        models2 = tf.keras.models.load_model(\n",
    "            '../input/siim-covid19-efnb7-train-study/model2.h5'\n",
    "        )\n",
    "        models3 = tf.keras.models.load_model(\n",
    "            '../input/siim-covid19-efnb7-train-study/model3.h5'\n",
    "        )\n",
    "        models4 = tf.keras.models.load_model(\n",
    "            '../input/siim-covid19-efnb7-train-study/model4.h5'\n",
    "        )\n",
    "\n",
    "        models.append(models0)\n",
    "        models.append(models1)\n",
    "        models.append(models2)\n",
    "        models.append(models3)\n",
    "        models.append(models4)\n",
    "\n",
    "\n",
    "\n",
    "\n",
    "    sub_df[label_cols] = sum([model.predict(dtest, verbose=1) for model in models]) / len(models)"
   ]
  },
  {
   "cell_type": "code",
   "execution_count": 13,
   "id": "statewide-harmony",
   "metadata": {
    "execution": {
     "iopub.execute_input": "2021-06-27T12:44:26.023146Z",
     "iopub.status.busy": "2021-06-27T12:44:26.022597Z",
     "iopub.status.idle": "2021-06-27T12:44:26.025932Z",
     "shell.execute_reply": "2021-06-27T12:44:26.026330Z",
     "shell.execute_reply.started": "2021-06-27T12:40:23.484570Z"
    },
    "papermill": {
     "duration": 0.051018,
     "end_time": "2021-06-27T12:44:26.026475",
     "exception": false,
     "start_time": "2021-06-27T12:44:25.975457",
     "status": "completed"
    },
    "tags": []
   },
   "outputs": [],
   "source": [
    "if study_predict:\n",
    "    sub_df.columns = ['id', 'PredictionString1', 'negative', 'typical', 'indeterminate', 'atypical']\n",
    "    df = pd.merge(df, sub_df, on = 'id', how = 'left')"
   ]
  },
  {
   "cell_type": "markdown",
   "id": "oriented-certification",
   "metadata": {
    "papermill": {
     "duration": 0.04342,
     "end_time": "2021-06-27T12:44:26.114856",
     "exception": false,
     "start_time": "2021-06-27T12:44:26.071436",
     "status": "completed"
    },
    "tags": []
   },
   "source": [
    "# study string"
   ]
  },
  {
   "cell_type": "code",
   "execution_count": 14,
   "id": "flush-spice",
   "metadata": {
    "execution": {
     "iopub.execute_input": "2021-06-27T12:44:26.208031Z",
     "iopub.status.busy": "2021-06-27T12:44:26.207440Z",
     "iopub.status.idle": "2021-06-27T12:44:26.210972Z",
     "shell.execute_reply": "2021-06-27T12:44:26.210568Z",
     "shell.execute_reply.started": "2021-06-27T12:40:23.498074Z"
    },
    "papermill": {
     "duration": 0.052579,
     "end_time": "2021-06-27T12:44:26.211079",
     "exception": false,
     "start_time": "2021-06-27T12:44:26.158500",
     "status": "completed"
    },
    "tags": []
   },
   "outputs": [],
   "source": [
    "study_string = False\n",
    "if study_string:\n",
    "    for i in range(study_len):\n",
    "        negative = df.loc[i,'negative']\n",
    "        typical = df.loc[i,'typical']\n",
    "        indeterminate = df.loc[i,'indeterminate']\n",
    "        atypical = df.loc[i,'atypical']\n",
    "        df.loc[i, 'PredictionString'] = f'negative {negative} 0 0 1 1 typical {typical} 0 0 1 1 indeterminate {indeterminate} 0 0 1 1 atypical {atypical} 0 0 1 1'"
   ]
  },
  {
   "cell_type": "code",
   "execution_count": 15,
   "id": "broke-parameter",
   "metadata": {
    "execution": {
     "iopub.execute_input": "2021-06-27T12:44:26.302671Z",
     "iopub.status.busy": "2021-06-27T12:44:26.301467Z",
     "iopub.status.idle": "2021-06-27T12:44:26.303896Z",
     "shell.execute_reply": "2021-06-27T12:44:26.304268Z",
     "shell.execute_reply.started": "2021-06-27T12:40:23.506347Z"
    },
    "papermill": {
     "duration": 0.049626,
     "end_time": "2021-06-27T12:44:26.304405",
     "exception": false,
     "start_time": "2021-06-27T12:44:26.254779",
     "status": "completed"
    },
    "tags": []
   },
   "outputs": [],
   "source": [
    "if study_string:\n",
    "    df_study = df[['id', 'PredictionString']]\n",
    "\n",
    "# df.to_csv('submission.csv',index=False)\n",
    "# df"
   ]
  },
  {
   "cell_type": "markdown",
   "id": "trying-america",
   "metadata": {
    "papermill": {
     "duration": 0.043313,
     "end_time": "2021-06-27T12:44:26.391056",
     "exception": false,
     "start_time": "2021-06-27T12:44:26.347743",
     "status": "completed"
    },
    "tags": []
   },
   "source": [
    "# 2 class"
   ]
  },
  {
   "cell_type": "code",
   "execution_count": 16,
   "id": "radio-lunch",
   "metadata": {
    "execution": {
     "iopub.execute_input": "2021-06-27T12:44:26.487685Z",
     "iopub.status.busy": "2021-06-27T12:44:26.486461Z",
     "iopub.status.idle": "2021-06-27T12:44:26.489244Z",
     "shell.execute_reply": "2021-06-27T12:44:26.488839Z",
     "shell.execute_reply.started": "2021-06-27T12:40:23.517298Z"
    },
    "papermill": {
     "duration": 0.054931,
     "end_time": "2021-06-27T12:44:26.489346",
     "exception": false,
     "start_time": "2021-06-27T12:44:26.434415",
     "status": "completed"
    },
    "tags": []
   },
   "outputs": [],
   "source": [
    "two_classes = False\n",
    "if two_classes:\n",
    "    if fast_sub:\n",
    "        sub_df = fast_df.copy()\n",
    "    else:\n",
    "        sub_df = pd.read_csv('../input/siim-covid19-detection/sample_submission.csv')\n",
    "    sub_df = sub_df[study_len:]\n",
    "    test_paths = f'../tmp/{split}/image/' + sub_df['id'] +'.png'\n",
    "    sub_df['none'] = 0\n",
    "\n",
    "    label_cols = sub_df.columns[2]\n",
    "\n",
    "    test_decoder = build_decoder(with_labels=False, target_size=(IMSIZE[8], IMSIZE[8]), ext='png')\n",
    "    dtest = build_dataset(\n",
    "        test_paths, bsize=BATCH_SIZE, repeat=False, \n",
    "        shuffle=False, augment=False, cache=False,\n",
    "        decode_fn=test_decoder\n",
    "    )\n",
    "\n",
    "    with strategy.scope():\n",
    "\n",
    "        models = []\n",
    "\n",
    "        models0 = tf.keras.models.load_model(\n",
    "            '../input/siim-covid19-efnb7-train-fold0-5-2class/model0.h5'\n",
    "        )\n",
    "        models1 = tf.keras.models.load_model(\n",
    "            '../input/siim-covid19-efnb7-train-fold0-5-2class/model1.h5'\n",
    "        )\n",
    "        models2 = tf.keras.models.load_model(\n",
    "            '../input/siim-covid19-efnb7-train-fold0-5-2class/model2.h5'\n",
    "        )\n",
    "        models3 = tf.keras.models.load_model(\n",
    "            '../input/siim-covid19-efnb7-train-fold0-5-2class/model3.h5'\n",
    "        )\n",
    "        models4 = tf.keras.models.load_model(\n",
    "            '../input/siim-covid19-efnb7-train-fold0-5-2class/model4.h5'\n",
    "        )\n",
    "\n",
    "        models.append(models0)\n",
    "        models.append(models1)\n",
    "        models.append(models2)\n",
    "        models.append(models3)\n",
    "        models.append(models4)\n",
    "\n",
    "\n",
    "\n",
    "\n",
    "    sub_df[label_cols] = sum([model.predict(dtest, verbose=1) for model in models]) / len(models)\n",
    "    df_2class = sub_df.reset_index(drop=True)"
   ]
  },
  {
   "cell_type": "code",
   "execution_count": 17,
   "id": "retained-fourth",
   "metadata": {
    "execution": {
     "iopub.execute_input": "2021-06-27T12:44:26.595030Z",
     "iopub.status.busy": "2021-06-27T12:44:26.594383Z",
     "iopub.status.idle": "2021-06-27T12:44:26.598540Z",
     "shell.execute_reply": "2021-06-27T12:44:26.597962Z",
     "shell.execute_reply.started": "2021-06-27T12:40:23.530180Z"
    },
    "papermill": {
     "duration": 0.057446,
     "end_time": "2021-06-27T12:44:26.598658",
     "exception": false,
     "start_time": "2021-06-27T12:44:26.541212",
     "status": "completed"
    },
    "tags": []
   },
   "outputs": [],
   "source": [
    "if two_classes:\n",
    "    del models\n",
    "    del models0, models1, models2, models3, models4"
   ]
  },
  {
   "cell_type": "code",
   "execution_count": 18,
   "id": "protected-milwaukee",
   "metadata": {
    "execution": {
     "iopub.execute_input": "2021-06-27T12:44:26.690792Z",
     "iopub.status.busy": "2021-06-27T12:44:26.689645Z",
     "iopub.status.idle": "2021-06-27T12:44:26.691970Z",
     "shell.execute_reply": "2021-06-27T12:44:26.692366Z",
     "shell.execute_reply.started": "2021-06-27T12:40:23.540414Z"
    },
    "papermill": {
     "duration": 0.049853,
     "end_time": "2021-06-27T12:44:26.692494",
     "exception": false,
     "start_time": "2021-06-27T12:44:26.642641",
     "status": "completed"
    },
    "tags": []
   },
   "outputs": [],
   "source": [
    "if two_classes:\n",
    "    from numba import cuda\n",
    "    import torch\n",
    "    cuda.select_device(0)\n",
    "    cuda.close()\n",
    "    cuda.select_device(0)"
   ]
  },
  {
   "cell_type": "markdown",
   "id": "powerful-nutrition",
   "metadata": {
    "papermill": {
     "duration": 0.04323,
     "end_time": "2021-06-27T12:44:26.779783",
     "exception": false,
     "start_time": "2021-06-27T12:44:26.736553",
     "status": "completed"
    },
    "tags": []
   },
   "source": [
    "----\n",
    "# yolov5 predict"
   ]
  },
  {
   "cell_type": "code",
   "execution_count": 19,
   "id": "forbidden-boulder",
   "metadata": {
    "execution": {
     "iopub.execute_input": "2021-06-27T12:44:26.870799Z",
     "iopub.status.busy": "2021-06-27T12:44:26.870327Z",
     "iopub.status.idle": "2021-06-27T12:44:28.168640Z",
     "shell.execute_reply": "2021-06-27T12:44:28.168096Z",
     "shell.execute_reply.started": "2021-06-27T12:40:23.548612Z"
    },
    "papermill": {
     "duration": 1.345464,
     "end_time": "2021-06-27T12:44:28.168764",
     "exception": false,
     "start_time": "2021-06-27T12:44:26.823300",
     "status": "completed"
    },
    "tags": []
   },
   "outputs": [],
   "source": [
    "import numpy as np, pandas as pd\n",
    "from glob import glob\n",
    "import shutil, os\n",
    "import matplotlib.pyplot as plt\n",
    "from sklearn.model_selection import GroupKFold\n",
    "from tqdm.notebook import tqdm\n",
    "import seaborn as sns\n",
    "import torch"
   ]
  },
  {
   "cell_type": "code",
   "execution_count": 20,
   "id": "honey-covering",
   "metadata": {
    "execution": {
     "iopub.execute_input": "2021-06-27T12:44:28.261692Z",
     "iopub.status.busy": "2021-06-27T12:44:28.260473Z",
     "iopub.status.idle": "2021-06-27T12:44:28.263248Z",
     "shell.execute_reply": "2021-06-27T12:44:28.262847Z",
     "shell.execute_reply.started": "2021-06-27T12:40:24.829410Z"
    },
    "papermill": {
     "duration": 0.050133,
     "end_time": "2021-06-27T12:44:28.263356",
     "exception": false,
     "start_time": "2021-06-27T12:44:28.213223",
     "status": "completed"
    },
    "tags": []
   },
   "outputs": [],
   "source": [
    "#display(meta, fast_df, df)"
   ]
  },
  {
   "cell_type": "code",
   "execution_count": 21,
   "id": "amino-korean",
   "metadata": {
    "execution": {
     "iopub.execute_input": "2021-06-27T12:44:28.357153Z",
     "iopub.status.busy": "2021-06-27T12:44:28.356565Z",
     "iopub.status.idle": "2021-06-27T12:44:28.382565Z",
     "shell.execute_reply": "2021-06-27T12:44:28.382178Z",
     "shell.execute_reply.started": "2021-06-27T12:40:24.837259Z"
    },
    "papermill": {
     "duration": 0.075789,
     "end_time": "2021-06-27T12:44:28.382670",
     "exception": false,
     "start_time": "2021-06-27T12:44:28.306881",
     "status": "completed"
    },
    "tags": []
   },
   "outputs": [
    {
     "data": {
      "text/html": [
       "<div>\n",
       "<style scoped>\n",
       "    .dataframe tbody tr th:only-of-type {\n",
       "        vertical-align: middle;\n",
       "    }\n",
       "\n",
       "    .dataframe tbody tr th {\n",
       "        vertical-align: top;\n",
       "    }\n",
       "\n",
       "    .dataframe thead th {\n",
       "        text-align: right;\n",
       "    }\n",
       "</style>\n",
       "<table border=\"1\" class=\"dataframe\">\n",
       "  <thead>\n",
       "    <tr style=\"text-align: right;\">\n",
       "      <th></th>\n",
       "      <th>id</th>\n",
       "      <th>PredictionString</th>\n",
       "      <th>id_last_str</th>\n",
       "      <th>dim0</th>\n",
       "      <th>dim1</th>\n",
       "      <th>split</th>\n",
       "    </tr>\n",
       "  </thead>\n",
       "  <tbody>\n",
       "    <tr>\n",
       "      <th>0</th>\n",
       "      <td>65761e66de9f_image</td>\n",
       "      <td>none 1 0 0 1 1</td>\n",
       "      <td>e</td>\n",
       "      <td>2330</td>\n",
       "      <td>2783</td>\n",
       "      <td>test</td>\n",
       "    </tr>\n",
       "    <tr>\n",
       "      <th>1</th>\n",
       "      <td>51759b5579bc_image</td>\n",
       "      <td>none 1 0 0 1 1</td>\n",
       "      <td>e</td>\n",
       "      <td>3093</td>\n",
       "      <td>2850</td>\n",
       "      <td>test</td>\n",
       "    </tr>\n",
       "  </tbody>\n",
       "</table>\n",
       "</div>"
      ],
      "text/plain": [
       "                   id PredictionString id_last_str  dim0  dim1 split\n",
       "0  65761e66de9f_image   none 1 0 0 1 1           e  2330  2783  test\n",
       "1  51759b5579bc_image   none 1 0 0 1 1           e  3093  2850  test"
      ]
     },
     "execution_count": 21,
     "metadata": {},
     "output_type": "execute_result"
    }
   ],
   "source": [
    "meta = meta[meta['split'] == 'test']\n",
    "\n",
    "if fast_sub:\n",
    "    test_df = fast_df.copy()\n",
    "else:\n",
    "    test_df = pd.read_csv('../input/siim-covid19-detection/sample_submission.csv')\n",
    "    \n",
    "test_df = df[study_len:].reset_index(drop=True) \n",
    "meta['image_id'] = meta['image_id'] + '_image'\n",
    "meta.columns = ['id', 'dim0', 'dim1', 'split']\n",
    "test_df = pd.merge(test_df, meta, on = 'id', how = 'left')\n",
    "test_df\n",
    "# only image_level"
   ]
  },
  {
   "cell_type": "code",
   "execution_count": 22,
   "id": "enormous-sacramento",
   "metadata": {
    "execution": {
     "iopub.execute_input": "2021-06-27T12:44:28.478322Z",
     "iopub.status.busy": "2021-06-27T12:44:28.477723Z",
     "iopub.status.idle": "2021-06-27T12:44:38.671147Z",
     "shell.execute_reply": "2021-06-27T12:44:38.670670Z",
     "shell.execute_reply.started": "2021-06-27T12:40:24.948842Z"
    },
    "papermill": {
     "duration": 10.244635,
     "end_time": "2021-06-27T12:44:38.671279",
     "exception": false,
     "start_time": "2021-06-27T12:44:28.426644",
     "status": "completed"
    },
    "scrolled": true,
    "tags": []
   },
   "outputs": [
    {
     "name": "stdout",
     "output_type": "stream",
     "text": [
      "Namespace(agnostic_nms=False, augment=False, classes=None, conf_thres=0.01, device='', exist_ok=True, img_size=512, iou_thres=0.5, name='exp', project='runs/detect', save_conf=True, save_txt=True, source='/kaggle/working/tmp/test/image', update=False, view_img=False, weights=['/kaggle/input/yolov5-train-image/kaggle/working/yolov5/runs/train/exp/weights/best.pt'])\r\n",
      "Fusing layers... \r\n",
      "image 1/2 /kaggle/working/tmp/test/image/51759b5579bc_image.png: 512x512 3 0. opacitys, Done. (0.040s)\r\n",
      "image 2/2 /kaggle/working/tmp/test/image/65761e66de9f_image.png: 512x512 9 0. opacitys, Done. (0.022s)\r\n",
      "Results saved to runs/detect/exp\r\n",
      "2 labels saved to runs/detect/exp/labels\r\n",
      "Done. (0.264s)\r\n"
     ]
    }
   ],
   "source": [
    "import shutil, os\n",
    "\n",
    "original_path = os.getcwd()\n",
    "original_path\n",
    "\n",
    "dim = 512\n",
    "test_dir = f'/kaggle/working/tmp/{split}/image'\n",
    "#weights_dir = '/kaggle/input/siim-cov19-yolov5-train/yolov5/runs/train/exp/weights/last.pt'\n",
    "weights_dir = '/kaggle/input/yolov5-train-image/kaggle/working/yolov5/runs/train/exp/weights/best.pt'\n",
    "if os.path.isdir('/kaggle/working/yolov5'):\n",
    "    shutil.rmtree('/kaggle/working/yolov5')\n",
    "shutil.copytree(src = '/kaggle/input/yolov5-official-v31-dataset/yolov5',\n",
    "                dst = '/kaggle/working/yolov5')\n",
    "\n",
    "os.chdir('/kaggle/working/yolov5') # install dependencies\n",
    "\n",
    "import torch\n",
    "#from IPython.display import Image, clear_output  # to display images\n",
    "\n",
    "#clear_output()\n",
    "#print('Setup complete. Using torch %s %s' % (torch.__version__, torch.cuda.get_device_properties(0) if torch.cuda.is_available() else 'CPU'))\n",
    "\n",
    "# 기존에 존재하는 txt 파일에 label 이 append 되도록 코드가 구성되어 있으므로, 실행 전에 shutil.rmtree 실행해주자\n",
    "\n",
    "!python detect.py --weights $weights_dir\\\n",
    "--img 512\\\n",
    "--conf 0.01\\\n",
    "--iou 0.5\\\n",
    "--source $test_dir\\\n",
    "--save-txt --save-conf --exist-ok\n",
    "\n",
    "# --conf : code default 0.25 / Notebook default 0.001\n",
    "\n",
    "# --conf : 코드 확인해보니, confidence threshold 값이다. \n",
    "# train_code 에서 detect and draw plot 에서는 이게 0.1로 설정되어 있었다.\n",
    "# 근데 0.1 로 바꿔도 왜 똑같지?"
   ]
  },
  {
   "cell_type": "code",
   "execution_count": 23,
   "id": "matched-designation",
   "metadata": {
    "execution": {
     "iopub.execute_input": "2021-06-27T12:44:38.769569Z",
     "iopub.status.busy": "2021-06-27T12:44:38.768851Z",
     "iopub.status.idle": "2021-06-27T12:44:38.771501Z",
     "shell.execute_reply": "2021-06-27T12:44:38.771119Z",
     "shell.execute_reply.started": "2021-06-27T12:40:34.525364Z"
    },
    "papermill": {
     "duration": 0.05445,
     "end_time": "2021-06-27T12:44:38.771602",
     "exception": false,
     "start_time": "2021-06-27T12:44:38.717152",
     "status": "completed"
    },
    "tags": []
   },
   "outputs": [],
   "source": [
    "def yolo2voc(image_height, image_width, bboxes):\n",
    "    \"\"\"\n",
    "    yolo => [xmid, ymid, w, h] (normalized)\n",
    "    voc  => [x1, y1, x2, y2]\n",
    "    \"\"\"\n",
    "    bboxes = bboxes.copy().astype(float) #otherwise all value will be 0 as voc_pascal dtype is np.int\n",
    "\n",
    "    bboxes[..., [0,2]] = bboxes[..., [0,2]] * image_width\n",
    "    bboxes[..., [1,3]] = bboxes[..., [1,3]] * image_height\n",
    "    \n",
    "    bboxes[..., [0,1]] = bboxes[..., [0,1]] - bboxes[..., [2,3]]/2\n",
    "    bboxes[..., [2,3]] = bboxes[..., [0,1]] + bboxes[..., [2,3]]/2\n",
    "    \n",
    "    return bboxes"
   ]
  },
  {
   "cell_type": "code",
   "execution_count": 24,
   "id": "center-eagle",
   "metadata": {
    "execution": {
     "iopub.execute_input": "2021-06-27T12:44:38.866740Z",
     "iopub.status.busy": "2021-06-27T12:44:38.866028Z",
     "iopub.status.idle": "2021-06-27T12:44:38.868563Z",
     "shell.execute_reply": "2021-06-27T12:44:38.868181Z",
     "shell.execute_reply.started": "2021-06-27T12:40:34.542842Z"
    },
    "papermill": {
     "duration": 0.051866,
     "end_time": "2021-06-27T12:44:38.868664",
     "exception": false,
     "start_time": "2021-06-27T12:44:38.816798",
     "status": "completed"
    },
    "tags": []
   },
   "outputs": [],
   "source": [
    "if fast_sub:\n",
    "    expect = [file for file in glob('/kaggle/working/yolov5/runs/detect/exp/*') \\\n",
    "             if file.split('.')[-1] == 'png']\n",
    "    expect_label = [file for file in glob('/kaggle/working/yolov5/runs/detect/exp/*') \\\n",
    "             if file.split('.')[-1] != 'png']"
   ]
  },
  {
   "cell_type": "code",
   "execution_count": 25,
   "id": "integrated-lawsuit",
   "metadata": {
    "execution": {
     "iopub.execute_input": "2021-06-27T12:44:38.978286Z",
     "iopub.status.busy": "2021-06-27T12:44:38.977761Z",
     "iopub.status.idle": "2021-06-27T12:44:39.284301Z",
     "shell.execute_reply": "2021-06-27T12:44:39.283859Z",
     "shell.execute_reply.started": "2021-06-27T12:40:34.590561Z"
    },
    "papermill": {
     "duration": 0.370428,
     "end_time": "2021-06-27T12:44:39.284432",
     "exception": false,
     "start_time": "2021-06-27T12:44:38.914004",
     "status": "completed"
    },
    "tags": []
   },
   "outputs": [
    {
     "data": {
      "image/png": "[encoded data removed]",
      "text/plain": [
       "<Figure size 864x288 with 2 Axes>"
      ]
     },
     "metadata": {
      "needs_background": "light"
     },
     "output_type": "display_data"
    }
   ],
   "source": [
    "if fast_sub:\n",
    "    fig, axes = plt.subplots(1,2,figsize=(12,4))\n",
    "    axes[0].imshow(plt.imread(expect[0]))\n",
    "    axes[1].imshow(plt.imread(expect[1]))"
   ]
  },
  {
   "cell_type": "code",
   "execution_count": 26,
   "id": "charged-tulsa",
   "metadata": {
    "execution": {
     "iopub.execute_input": "2021-06-27T12:44:39.385731Z",
     "iopub.status.busy": "2021-06-27T12:44:39.384948Z",
     "iopub.status.idle": "2021-06-27T12:44:39.390158Z",
     "shell.execute_reply": "2021-06-27T12:44:39.389587Z",
     "shell.execute_reply.started": "2021-06-27T12:40:34.922281Z"
    },
    "papermill": {
     "duration": 0.057227,
     "end_time": "2021-06-27T12:44:39.390299",
     "exception": false,
     "start_time": "2021-06-27T12:44:39.333072",
     "status": "completed"
    },
    "tags": []
   },
   "outputs": [
    {
     "name": "stdout",
     "output_type": "stream",
     "text": [
      "65761e66de9f_image.txt\n",
      "0 0.806641 0.423828 0.191406 0.382812 0.0105286\n",
      "0 0.8125 0.488281 0.125 0.273438 0.0112152\n",
      "0 0.306641 0.509766 0.15625 0.230469 0.0125809\n",
      "0 0.75293 0.568359 0.255859 0.292969 0.0136642\n",
      "0 0.745117 0.361328 0.232422 0.496094 0.0142136\n",
      "0 0.791016 0.544922 0.160156 0.222656 0.0219269\n",
      "0 0.363281 0.342773 0.214844 0.478516 0.0307465\n",
      "0 0.347656 0.472656 0.210938 0.296875 0.150146\n",
      "0 0.766602 0.484375 0.208984 0.320312 0.158447\n",
      "\n",
      "51759b5579bc_image.txt\n",
      "0 0.210938 0.626953 0.277344 0.300781 0.021286\n",
      "0 0.775391 0.538086 0.246094 0.236328 0.0351257\n",
      "0 0.209961 0.714844 0.294922 0.203125 0.0643921\n",
      "\n"
     ]
    }
   ],
   "source": [
    "if fast_sub:\n",
    "    expect_labels = glob(expect_label[0] + '/*')\n",
    "    for label_text in expect_labels:\n",
    "        print(label_text.split('/')[-1])\n",
    "        with open(label_text) as f:\n",
    "            print(f.read())\n",
    "# conf-threshold 를 바꿔도 이 txt 파일이 바뀌지 않았던 이유는, 코드를 살펴보니 open('a') : append 로 되어있었기 때문\n",
    "# yolov5 detect.py 코드 구성상, txt file 은 open append 로 되어있어서 실행전에 shutil.rmtree 코드 추가함."
   ]
  },
  {
   "cell_type": "code",
   "execution_count": 27,
   "id": "developmental-discussion",
   "metadata": {
    "execution": {
     "iopub.execute_input": "2021-06-27T12:44:39.497087Z",
     "iopub.status.busy": "2021-06-27T12:44:39.496260Z",
     "iopub.status.idle": "2021-06-27T12:44:39.499995Z",
     "shell.execute_reply": "2021-06-27T12:44:39.499596Z",
     "shell.execute_reply.started": "2021-06-27T12:40:34.932115Z"
    },
    "papermill": {
     "duration": 0.060981,
     "end_time": "2021-06-27T12:44:39.500096",
     "exception": false,
     "start_time": "2021-06-27T12:44:39.439115",
     "status": "completed"
    },
    "tags": []
   },
   "outputs": [
    {
     "data": {
      "text/html": [
       "<div>\n",
       "<style scoped>\n",
       "    .dataframe tbody tr th:only-of-type {\n",
       "        vertical-align: middle;\n",
       "    }\n",
       "\n",
       "    .dataframe tbody tr th {\n",
       "        vertical-align: top;\n",
       "    }\n",
       "\n",
       "    .dataframe thead th {\n",
       "        text-align: right;\n",
       "    }\n",
       "</style>\n",
       "<table border=\"1\" class=\"dataframe\">\n",
       "  <thead>\n",
       "    <tr style=\"text-align: right;\">\n",
       "      <th></th>\n",
       "      <th>id</th>\n",
       "      <th>PredictionString</th>\n",
       "      <th>id_last_str</th>\n",
       "      <th>dim0</th>\n",
       "      <th>dim1</th>\n",
       "      <th>split</th>\n",
       "    </tr>\n",
       "  </thead>\n",
       "  <tbody>\n",
       "    <tr>\n",
       "      <th>0</th>\n",
       "      <td>65761e66de9f_image</td>\n",
       "      <td>none 1 0 0 1 1</td>\n",
       "      <td>e</td>\n",
       "      <td>2330</td>\n",
       "      <td>2783</td>\n",
       "      <td>test</td>\n",
       "    </tr>\n",
       "    <tr>\n",
       "      <th>1</th>\n",
       "      <td>51759b5579bc_image</td>\n",
       "      <td>none 1 0 0 1 1</td>\n",
       "      <td>e</td>\n",
       "      <td>3093</td>\n",
       "      <td>2850</td>\n",
       "      <td>test</td>\n",
       "    </tr>\n",
       "  </tbody>\n",
       "</table>\n",
       "</div>"
      ],
      "text/plain": [
       "                   id PredictionString id_last_str  dim0  dim1 split\n",
       "0  65761e66de9f_image   none 1 0 0 1 1           e  2330  2783  test\n",
       "1  51759b5579bc_image   none 1 0 0 1 1           e  3093  2850  test"
      ]
     },
     "execution_count": 27,
     "metadata": {},
     "output_type": "execute_result"
    }
   ],
   "source": [
    "test_df"
   ]
  },
  {
   "cell_type": "code",
   "execution_count": 28,
   "id": "proud-latino",
   "metadata": {
    "execution": {
     "iopub.execute_input": "2021-06-27T12:44:39.605466Z",
     "iopub.status.busy": "2021-06-27T12:44:39.604685Z",
     "iopub.status.idle": "2021-06-27T12:44:39.644867Z",
     "shell.execute_reply": "2021-06-27T12:44:39.645289Z",
     "shell.execute_reply.started": "2021-06-27T12:40:34.946778Z"
    },
    "papermill": {
     "duration": 0.096915,
     "end_time": "2021-06-27T12:44:39.645414",
     "exception": false,
     "start_time": "2021-06-27T12:44:39.548499",
     "status": "completed"
    },
    "tags": []
   },
   "outputs": [
    {
     "data": {
      "application/vnd.jupyter.widget-view+json": {
       "model_id": "185f0ee49e014de08e737a11af19665a",
       "version_major": 2,
       "version_minor": 0
      },
      "text/plain": [
       "  0%|          | 0/2 [00:00<?, ?it/s]"
      ]
     },
     "metadata": {},
     "output_type": "display_data"
    }
   ],
   "source": [
    "image_ids = []\n",
    "PredictionStrings = []\n",
    "for file_path in tqdm(glob('/kaggle/working/yolov5/runs/detect/exp/labels/*.txt')):\n",
    "    image_id = file_path.split('/')[-1].split('.')[0]\n",
    "    w, h = test_df.loc[test_df.id==image_id, ['dim1','dim0']].values[0] # 512 로 예측한 것을 본래 크기에 맞게 resizing\n",
    "    f = open(file_path, 'r')\n",
    "    data = np.array(f.read().replace('\\n', ' ').strip().split(' ')).astype(np.float32).reshape(-1,6)\n",
    "    data = data[:, [0, 5, 1, 2, 3, 4]] # opacity, confidence, bboxees\n",
    "    bboxes = list(np.round(\n",
    "        np.concatenate((data[:, :2], # opacity, confidence\n",
    "                        np.round(yolo2voc(h, w, data[:,2:]))), axis=1).reshape(-1), 12).astype(str))\n",
    "    for idx in range(len(bboxes)):\n",
    "        bboxes[idx] = str(int(float(bboxes[idx]))) if idx%6 != 1 else bboxes[idx] # confidence 제외 str\n",
    "    image_ids.append(image_id)\n",
    "    PredictionStrings.append(' '.join(bboxes))\n",
    "pred_df = pd.DataFrame({'id':image_ids,\n",
    "                        'PredictionString':PredictionStrings})"
   ]
  },
  {
   "cell_type": "code",
   "execution_count": 29,
   "id": "critical-japanese",
   "metadata": {
    "execution": {
     "iopub.execute_input": "2021-06-27T12:44:39.750941Z",
     "iopub.status.busy": "2021-06-27T12:44:39.750042Z",
     "iopub.status.idle": "2021-06-27T12:44:39.759560Z",
     "shell.execute_reply": "2021-06-27T12:44:39.759182Z",
     "shell.execute_reply.started": "2021-06-27T12:40:35.003591Z"
    },
    "papermill": {
     "duration": 0.064675,
     "end_time": "2021-06-27T12:44:39.759660",
     "exception": false,
     "start_time": "2021-06-27T12:44:39.694985",
     "status": "completed"
    },
    "tags": []
   },
   "outputs": [
    {
     "data": {
      "text/html": [
       "<div>\n",
       "<style scoped>\n",
       "    .dataframe tbody tr th:only-of-type {\n",
       "        vertical-align: middle;\n",
       "    }\n",
       "\n",
       "    .dataframe tbody tr th {\n",
       "        vertical-align: top;\n",
       "    }\n",
       "\n",
       "    .dataframe thead th {\n",
       "        text-align: right;\n",
       "    }\n",
       "</style>\n",
       "<table border=\"1\" class=\"dataframe\">\n",
       "  <thead>\n",
       "    <tr style=\"text-align: right;\">\n",
       "      <th></th>\n",
       "      <th>id</th>\n",
       "      <th>PredictionString</th>\n",
       "    </tr>\n",
       "  </thead>\n",
       "  <tbody>\n",
       "    <tr>\n",
       "      <th>0</th>\n",
       "      <td>65761e66de9f_image</td>\n",
       "      <td>0 0.010528599843 1979 542 2245 988 0 0.0112151...</td>\n",
       "    </tr>\n",
       "    <tr>\n",
       "      <th>1</th>\n",
       "      <td>51759b5579bc_image</td>\n",
       "      <td>0 0.021285999566 206 1474 601 1939 0 0.0351256...</td>\n",
       "    </tr>\n",
       "  </tbody>\n",
       "</table>\n",
       "</div>"
      ],
      "text/plain": [
       "                   id                                   PredictionString\n",
       "0  65761e66de9f_image  0 0.010528599843 1979 542 2245 988 0 0.0112151...\n",
       "1  51759b5579bc_image  0 0.021285999566 206 1474 601 1939 0 0.0351256..."
      ]
     },
     "metadata": {},
     "output_type": "display_data"
    },
    {
     "data": {
      "text/html": [
       "<div>\n",
       "<style scoped>\n",
       "    .dataframe tbody tr th:only-of-type {\n",
       "        vertical-align: middle;\n",
       "    }\n",
       "\n",
       "    .dataframe tbody tr th {\n",
       "        vertical-align: top;\n",
       "    }\n",
       "\n",
       "    .dataframe thead th {\n",
       "        text-align: right;\n",
       "    }\n",
       "</style>\n",
       "<table border=\"1\" class=\"dataframe\">\n",
       "  <thead>\n",
       "    <tr style=\"text-align: right;\">\n",
       "      <th></th>\n",
       "      <th>id</th>\n",
       "      <th>PredictionString</th>\n",
       "      <th>id_last_str</th>\n",
       "      <th>dim0</th>\n",
       "      <th>dim1</th>\n",
       "      <th>split</th>\n",
       "    </tr>\n",
       "  </thead>\n",
       "  <tbody>\n",
       "    <tr>\n",
       "      <th>0</th>\n",
       "      <td>65761e66de9f_image</td>\n",
       "      <td>none 1 0 0 1 1</td>\n",
       "      <td>e</td>\n",
       "      <td>2330</td>\n",
       "      <td>2783</td>\n",
       "      <td>test</td>\n",
       "    </tr>\n",
       "    <tr>\n",
       "      <th>1</th>\n",
       "      <td>51759b5579bc_image</td>\n",
       "      <td>none 1 0 0 1 1</td>\n",
       "      <td>e</td>\n",
       "      <td>3093</td>\n",
       "      <td>2850</td>\n",
       "      <td>test</td>\n",
       "    </tr>\n",
       "  </tbody>\n",
       "</table>\n",
       "</div>"
      ],
      "text/plain": [
       "                   id PredictionString id_last_str  dim0  dim1 split\n",
       "0  65761e66de9f_image   none 1 0 0 1 1           e  2330  2783  test\n",
       "1  51759b5579bc_image   none 1 0 0 1 1           e  3093  2850  test"
      ]
     },
     "metadata": {},
     "output_type": "display_data"
    }
   ],
   "source": [
    "display(pred_df, test_df)"
   ]
  },
  {
   "cell_type": "code",
   "execution_count": 30,
   "id": "suburban-issue",
   "metadata": {
    "execution": {
     "iopub.execute_input": "2021-06-27T12:44:39.872347Z",
     "iopub.status.busy": "2021-06-27T12:44:39.871690Z",
     "iopub.status.idle": "2021-06-27T12:44:39.874602Z",
     "shell.execute_reply": "2021-06-27T12:44:39.875003Z",
     "shell.execute_reply.started": "2021-06-27T12:40:35.023838Z"
    },
    "papermill": {
     "duration": 0.065853,
     "end_time": "2021-06-27T12:44:39.875119",
     "exception": false,
     "start_time": "2021-06-27T12:44:39.809266",
     "status": "completed"
    },
    "tags": []
   },
   "outputs": [
    {
     "data": {
      "text/html": [
       "<div>\n",
       "<style scoped>\n",
       "    .dataframe tbody tr th:only-of-type {\n",
       "        vertical-align: middle;\n",
       "    }\n",
       "\n",
       "    .dataframe tbody tr th {\n",
       "        vertical-align: top;\n",
       "    }\n",
       "\n",
       "    .dataframe thead th {\n",
       "        text-align: right;\n",
       "    }\n",
       "</style>\n",
       "<table border=\"1\" class=\"dataframe\">\n",
       "  <thead>\n",
       "    <tr style=\"text-align: right;\">\n",
       "      <th></th>\n",
       "      <th>id</th>\n",
       "      <th>PredictionString</th>\n",
       "    </tr>\n",
       "  </thead>\n",
       "  <tbody>\n",
       "    <tr>\n",
       "      <th>0</th>\n",
       "      <td>65761e66de9f_image</td>\n",
       "      <td>0 0.010528599843 1979 542 2245 988 0 0.0112151...</td>\n",
       "    </tr>\n",
       "    <tr>\n",
       "      <th>1</th>\n",
       "      <td>51759b5579bc_image</td>\n",
       "      <td>0 0.021285999566 206 1474 601 1939 0 0.0351256...</td>\n",
       "    </tr>\n",
       "  </tbody>\n",
       "</table>\n",
       "</div>"
      ],
      "text/plain": [
       "                   id                                   PredictionString\n",
       "0  65761e66de9f_image  0 0.010528599843 1979 542 2245 988 0 0.0112151...\n",
       "1  51759b5579bc_image  0 0.021285999566 206 1474 601 1939 0 0.0351256..."
      ]
     },
     "execution_count": 30,
     "metadata": {},
     "output_type": "execute_result"
    }
   ],
   "source": [
    "test_df = test_df.drop(['PredictionString'], axis=1)\n",
    "sub_df = pd.merge(test_df, pred_df, on = 'id', how='left').fillna(\"none 1 0 0 1 1\")\n",
    "sub_df = sub_df[['id', 'PredictionString']]\n",
    "sub_df"
   ]
  },
  {
   "cell_type": "code",
   "execution_count": 31,
   "id": "overall-cleveland",
   "metadata": {
    "execution": {
     "iopub.execute_input": "2021-06-27T12:44:39.986454Z",
     "iopub.status.busy": "2021-06-27T12:44:39.985653Z",
     "iopub.status.idle": "2021-06-27T12:44:39.988962Z",
     "shell.execute_reply": "2021-06-27T12:44:39.989370Z",
     "shell.execute_reply.started": "2021-06-27T12:40:35.041700Z"
    },
    "papermill": {
     "duration": 0.064464,
     "end_time": "2021-06-27T12:44:39.989488",
     "exception": false,
     "start_time": "2021-06-27T12:44:39.925024",
     "status": "completed"
    },
    "tags": []
   },
   "outputs": [
    {
     "data": {
      "text/html": [
       "<div>\n",
       "<style scoped>\n",
       "    .dataframe tbody tr th:only-of-type {\n",
       "        vertical-align: middle;\n",
       "    }\n",
       "\n",
       "    .dataframe tbody tr th {\n",
       "        vertical-align: top;\n",
       "    }\n",
       "\n",
       "    .dataframe thead th {\n",
       "        text-align: right;\n",
       "    }\n",
       "</style>\n",
       "<table border=\"1\" class=\"dataframe\">\n",
       "  <thead>\n",
       "    <tr style=\"text-align: right;\">\n",
       "      <th></th>\n",
       "      <th>id</th>\n",
       "      <th>PredictionString</th>\n",
       "    </tr>\n",
       "  </thead>\n",
       "  <tbody>\n",
       "    <tr>\n",
       "      <th>0</th>\n",
       "      <td>65761e66de9f_image</td>\n",
       "      <td>opacity 0.010528599843 1979 542 2245 988 opaci...</td>\n",
       "    </tr>\n",
       "    <tr>\n",
       "      <th>1</th>\n",
       "      <td>51759b5579bc_image</td>\n",
       "      <td>opacity 0.021285999566 206 1474 601 1939 opaci...</td>\n",
       "    </tr>\n",
       "  </tbody>\n",
       "</table>\n",
       "</div>"
      ],
      "text/plain": [
       "                   id                                   PredictionString\n",
       "0  65761e66de9f_image  opacity 0.010528599843 1979 542 2245 988 opaci...\n",
       "1  51759b5579bc_image  opacity 0.021285999566 206 1474 601 1939 opaci..."
      ]
     },
     "execution_count": 31,
     "metadata": {},
     "output_type": "execute_result"
    }
   ],
   "source": [
    "# make a format for submission\n",
    "for i in range(sub_df.shape[0]):\n",
    "    if sub_df.loc[i, 'PredictionString'] == \"none 1 0 0 1 1\":\n",
    "        continue\n",
    "    sub_df_split = sub_df.loc[i, 'PredictionString'].split()\n",
    "    sub_df_list = []\n",
    "    for j in range(int(len(sub_df_split)/6)):\n",
    "        sub_df_list.append('opacity')               # 0 to opacity\n",
    "        sub_df_list.append(sub_df_split[6 * j + 1]) # confidence\n",
    "        sub_df_list.append(sub_df_split[6 * j + 2]) # x_min\n",
    "        sub_df_list.append(sub_df_split[6 * j + 3]) # y_min\n",
    "        sub_df_list.append(sub_df_split[6 * j + 4]) # x_max\n",
    "        sub_df_list.append(sub_df_split[6 * j + 5]) # y_max\n",
    "    sub_df.loc[i, 'PredictionString'] = ' '.join(sub_df_list)\n",
    "sub_df"
   ]
  },
  {
   "cell_type": "code",
   "execution_count": 32,
   "id": "ignored-leadership",
   "metadata": {
    "execution": {
     "iopub.execute_input": "2021-06-27T12:44:40.098304Z",
     "iopub.status.busy": "2021-06-27T12:44:40.097572Z",
     "iopub.status.idle": "2021-06-27T12:44:40.100191Z",
     "shell.execute_reply": "2021-06-27T12:44:40.099781Z",
     "shell.execute_reply.started": "2021-06-27T12:40:35.058544Z"
    },
    "papermill": {
     "duration": 0.060195,
     "end_time": "2021-06-27T12:44:40.100295",
     "exception": false,
     "start_time": "2021-06-27T12:44:40.040100",
     "status": "completed"
    },
    "tags": []
   },
   "outputs": [],
   "source": [
    "# 여기는 2 classfier 개념인데, 한번 봐봐야겠다.\n",
    "if two_classes:\n",
    "    sub_df['none'] = df_2class['none']\n",
    "    for i in range(sub_df.shape[0]):\n",
    "        if sub_df.loc[i, 'PredictionString'] != 'none 1 0 0 1 1':\n",
    "            sub_df.loc[i, 'PredictionString'] = sub_df.loc[i, 'PredictionString'] + \\\n",
    "            ' none ' + str(sub_df.loc[i, 'none']) + ' 0 0 1 1'\n",
    "    sub_df = sub_df[['id','PredictionString']]\n",
    "    \n",
    "if study_predict:\n",
    "    df_study = df_study[:study_len]\n",
    "    df_study = df_study.append(sub_df).reset_index(drop=True)\n",
    "    df_study.to_csv('/kaggle/working/submission.csv',index = False)  \n",
    "    shutil.rmtree('/kaggle/working/yolov5')"
   ]
  },
  {
   "cell_type": "code",
   "execution_count": 33,
   "id": "younger-baseline",
   "metadata": {
    "execution": {
     "iopub.execute_input": "2021-06-27T12:44:40.212184Z",
     "iopub.status.busy": "2021-06-27T12:44:40.211487Z",
     "iopub.status.idle": "2021-06-27T12:44:40.337131Z",
     "shell.execute_reply": "2021-06-27T12:44:40.336024Z",
     "shell.execute_reply.started": "2021-06-27T12:40:35.068829Z"
    },
    "papermill": {
     "duration": 0.184049,
     "end_time": "2021-06-27T12:44:40.337265",
     "exception": false,
     "start_time": "2021-06-27T12:44:40.153216",
     "status": "completed"
    },
    "tags": []
   },
   "outputs": [],
   "source": [
    "df_study = df[:study_len][['id','PredictionString']]\n",
    "\n",
    "study_str = 'negative 1 0 0 1 1 atypical 1 0 0 1 1 typical 1 0 0 1 1 indeterminate 1 0 0 1 1'\n",
    "for i in range(study_len):\n",
    "    df.loc[i, 'PredictionString'] = study_str\n",
    "# 현재 image_level 만 변경했을 때 어떻게 점수가 바뀌는지 보는 것이므로, df_study 는 기존 연구의 연장으로,\n",
    "# 일단 0.230 일때의 값과 같게 설정해줘야 한다. 이걸 빼먹었네\n",
    "    \n",
    "df_study = df_study.append(sub_df).reset_index(drop=True)\n",
    "df_study.to_csv(\"/kaggle/working/submission.csv\", index=False)\n",
    "if os.path.exists('/kaggle/working/yolov5'):\n",
    "    shutil.rmtree('/kaggle/working/yolov5')\n",
    "if os.path.exists('/kaggle/working/tmp'):\n",
    "    shutil.rmtree('/kaggle/working/tmp')"
   ]
  },
  {
   "cell_type": "code",
   "execution_count": 34,
   "id": "moved-explanation",
   "metadata": {
    "execution": {
     "iopub.execute_input": "2021-06-27T12:44:40.447351Z",
     "iopub.status.busy": "2021-06-27T12:44:40.446612Z",
     "iopub.status.idle": "2021-06-27T12:44:40.450188Z",
     "shell.execute_reply": "2021-06-27T12:44:40.449727Z",
     "shell.execute_reply.started": "2021-06-27T12:40:35.212055Z"
    },
    "papermill": {
     "duration": 0.061897,
     "end_time": "2021-06-27T12:44:40.450295",
     "exception": false,
     "start_time": "2021-06-27T12:44:40.388398",
     "status": "completed"
    },
    "tags": []
   },
   "outputs": [
    {
     "data": {
      "text/html": [
       "<div>\n",
       "<style scoped>\n",
       "    .dataframe tbody tr th:only-of-type {\n",
       "        vertical-align: middle;\n",
       "    }\n",
       "\n",
       "    .dataframe tbody tr th {\n",
       "        vertical-align: top;\n",
       "    }\n",
       "\n",
       "    .dataframe thead th {\n",
       "        text-align: right;\n",
       "    }\n",
       "</style>\n",
       "<table border=\"1\" class=\"dataframe\">\n",
       "  <thead>\n",
       "    <tr style=\"text-align: right;\">\n",
       "      <th></th>\n",
       "      <th>id</th>\n",
       "      <th>PredictionString</th>\n",
       "    </tr>\n",
       "  </thead>\n",
       "  <tbody>\n",
       "    <tr>\n",
       "      <th>0</th>\n",
       "      <td>00086460a852_study</td>\n",
       "      <td>negative 1 0 0 1 1</td>\n",
       "    </tr>\n",
       "    <tr>\n",
       "      <th>1</th>\n",
       "      <td>000c9c05fd14_study</td>\n",
       "      <td>negative 1 0 0 1 1</td>\n",
       "    </tr>\n",
       "    <tr>\n",
       "      <th>2</th>\n",
       "      <td>65761e66de9f_image</td>\n",
       "      <td>opacity 0.010528599843 1979 542 2245 988 opaci...</td>\n",
       "    </tr>\n",
       "    <tr>\n",
       "      <th>3</th>\n",
       "      <td>51759b5579bc_image</td>\n",
       "      <td>opacity 0.021285999566 206 1474 601 1939 opaci...</td>\n",
       "    </tr>\n",
       "  </tbody>\n",
       "</table>\n",
       "</div>"
      ],
      "text/plain": [
       "                   id                                   PredictionString\n",
       "0  00086460a852_study                                 negative 1 0 0 1 1\n",
       "1  000c9c05fd14_study                                 negative 1 0 0 1 1\n",
       "2  65761e66de9f_image  opacity 0.010528599843 1979 542 2245 988 opaci...\n",
       "3  51759b5579bc_image  opacity 0.021285999566 206 1474 601 1939 opaci..."
      ]
     },
     "execution_count": 34,
     "metadata": {},
     "output_type": "execute_result"
    }
   ],
   "source": [
    "df_study"
   ]
  },
  {
   "cell_type": "code",
   "execution_count": 35,
   "id": "weekly-stupid",
   "metadata": {
    "execution": {
     "iopub.execute_input": "2021-06-27T12:44:40.558712Z",
     "iopub.status.busy": "2021-06-27T12:44:40.558007Z",
     "iopub.status.idle": "2021-06-27T12:44:40.571534Z",
     "shell.execute_reply": "2021-06-27T12:44:40.571142Z",
     "shell.execute_reply.started": "2021-06-27T12:42:31.865540Z"
    },
    "papermill": {
     "duration": 0.070232,
     "end_time": "2021-06-27T12:44:40.571640",
     "exception": false,
     "start_time": "2021-06-27T12:44:40.501408",
     "status": "completed"
    },
    "tags": []
   },
   "outputs": [],
   "source": [
    "df = pd.read_csv(\"/kaggle/input/siim-covid19-detection/sample_submission.csv\")\n",
    "study_str = 'negative 1 0 0 1 1 atypical 1 0 0 1 1 typical 1 0 0 1 1 indeterminate 1 0 0 1 1'\n",
    "for i in range(study_len):\n",
    "    df.loc[i, 'PredictionString'] = study_str\n",
    "df.to_csv(\"/kaggle/working/submission.csv\", index=False)"
   ]
  },
  {
   "cell_type": "code",
   "execution_count": null,
   "id": "rotary-chest",
   "metadata": {
    "papermill": {
     "duration": 0.050753,
     "end_time": "2021-06-27T12:44:40.673236",
     "exception": false,
     "start_time": "2021-06-27T12:44:40.622483",
     "status": "completed"
    },
    "tags": []
   },
   "outputs": [],
   "source": []
  }
 ],
 "metadata": {
  "kernelspec": {
   "display_name": "Python 3",
   "language": "python",
   "name": "python3"
  },
  "language_info": {
   "codemirror_mode": {
    "name": "ipython",
    "version": 3
   },
   "file_extension": ".py",
   "mimetype": "text/x-python",
   "name": "python",
   "nbconvert_exporter": "python",
   "pygments_lexer": "ipython3",
   "version": "3.7.10"
  },
  "papermill": {
   "default_parameters": {},
   "duration": 94.779394,
   "end_time": "2021-06-27T12:44:42.063273",
   "environment_variables": {},
   "exception": null,
   "input_path": "__notebook__.ipynb",
   "output_path": "__notebook__.ipynb",
   "parameters": {},
   "start_time": "2021-06-27T12:43:07.283879",
   "version": "2.3.3"
  },
  "widgets": {
   "application/vnd.jupyter.widget-state+json": {
    "state": {
     "0f0fec4c27c9443bb81468ece0dc14cd": {
      "model_module": "@jupyter-widgets/controls",
      "model_module_version": "1.5.0",
      "model_name": "FloatProgressModel",
      "state": {
       "_dom_classes": [],
       "_model_module": "@jupyter-widgets/controls",
       "_model_module_version": "1.5.0",
       "_model_name": "FloatProgressModel",
       "_view_count": null,
       "_view_module": "@jupyter-widgets/controls",
       "_view_module_version": "1.5.0",
       "_view_name": "ProgressView",
       "bar_style": "success",
       "description": "",
       "description_tooltip": null,
       "layout": "IPY_MODEL_347e3d5f09b147458acebb022f8d4d36",
       "max": 2.0,
       "min": 0.0,
       "orientation": "horizontal",
       "style": "IPY_MODEL_5e5612ec61294c6b8bc37ca7e1b5bfd4",
       "value": 2.0
      }
     },
     "185f0ee49e014de08e737a11af19665a": {
      "model_module": "@jupyter-widgets/controls",
      "model_module_version": "1.5.0",
      "model_name": "HBoxModel",
      "state": {
       "_dom_classes": [],
       "_model_module": "@jupyter-widgets/controls",
       "_model_module_version": "1.5.0",
       "_model_name": "HBoxModel",
       "_view_count": null,
       "_view_module": "@jupyter-widgets/controls",
       "_view_module_version": "1.5.0",
       "_view_name": "HBoxView",
       "box_style": "",
       "children": [
        "IPY_MODEL_917f29a92e944d028f4ad3f630b9e930",
        "IPY_MODEL_0f0fec4c27c9443bb81468ece0dc14cd",
        "IPY_MODEL_4d522ce8b38d4919a2dbc8c26a455cd4"
       ],
       "layout": "IPY_MODEL_bfc899f894784158aaa93ff2b189eaa8"
      }
     },
     "347e3d5f09b147458acebb022f8d4d36": {
      "model_module": "@jupyter-widgets/base",
      "model_module_version": "1.2.0",
      "model_name": "LayoutModel",
      "state": {
       "_model_module": "@jupyter-widgets/base",
       "_model_module_version": "1.2.0",
       "_model_name": "LayoutModel",
       "_view_count": null,
       "_view_module": "@jupyter-widgets/base",
       "_view_module_version": "1.2.0",
       "_view_name": "LayoutView",
       "align_content": null,
       "align_items": null,
       "align_self": null,
       "border": null,
       "bottom": null,
       "display": null,
       "flex": null,
       "flex_flow": null,
       "grid_area": null,
       "grid_auto_columns": null,
       "grid_auto_flow": null,
       "grid_auto_rows": null,
       "grid_column": null,
       "grid_gap": null,
       "grid_row": null,
       "grid_template_areas": null,
       "grid_template_columns": null,
       "grid_template_rows": null,
       "height": null,
       "justify_content": null,
       "justify_items": null,
       "left": null,
       "margin": null,
       "max_height": null,
       "max_width": null,
       "min_height": null,
       "min_width": null,
       "object_fit": null,
       "object_position": null,
       "order": null,
       "overflow": null,
       "overflow_x": null,
       "overflow_y": null,
       "padding": null,
       "right": null,
       "top": null,
       "visibility": null,
       "width": null
      }
     },
     "3f64dd302e4f4336a26959440c24d7cb": {
      "model_module": "@jupyter-widgets/base",
      "model_module_version": "1.2.0",
      "model_name": "LayoutModel",
      "state": {
       "_model_module": "@jupyter-widgets/base",
       "_model_module_version": "1.2.0",
       "_model_name": "LayoutModel",
       "_view_count": null,
       "_view_module": "@jupyter-widgets/base",
       "_view_module_version": "1.2.0",
       "_view_name": "LayoutView",
       "align_content": null,
       "align_items": null,
       "align_self": null,
       "border": null,
       "bottom": null,
       "display": null,
       "flex": null,
       "flex_flow": null,
       "grid_area": null,
       "grid_auto_columns": null,
       "grid_auto_flow": null,
       "grid_auto_rows": null,
       "grid_column": null,
       "grid_gap": null,
       "grid_row": null,
       "grid_template_areas": null,
       "grid_template_columns": null,
       "grid_template_rows": null,
       "height": null,
       "justify_content": null,
       "justify_items": null,
       "left": null,
       "margin": null,
       "max_height": null,
       "max_width": null,
       "min_height": null,
       "min_width": null,
       "object_fit": null,
       "object_position": null,
       "order": null,
       "overflow": null,
       "overflow_x": null,
       "overflow_y": null,
       "padding": null,
       "right": null,
       "top": null,
       "visibility": null,
       "width": null
      }
     },
     "4d522ce8b38d4919a2dbc8c26a455cd4": {
      "model_module": "@jupyter-widgets/controls",
      "model_module_version": "1.5.0",
      "model_name": "HTMLModel",
      "state": {
       "_dom_classes": [],
       "_model_module": "@jupyter-widgets/controls",
       "_model_module_version": "1.5.0",
       "_model_name": "HTMLModel",
       "_view_count": null,
       "_view_module": "@jupyter-widgets/controls",
       "_view_module_version": "1.5.0",
       "_view_name": "HTMLView",
       "description": "",
       "description_tooltip": null,
       "layout": "IPY_MODEL_3f64dd302e4f4336a26959440c24d7cb",
       "placeholder": "​",
       "style": "IPY_MODEL_6983daf926114669a4d427b26a692a2e",
       "value": " 2/2 [00:00&lt;00:00, 65.02it/s]"
      }
     },
     "5e5612ec61294c6b8bc37ca7e1b5bfd4": {
      "model_module": "@jupyter-widgets/controls",
      "model_module_version": "1.5.0",
      "model_name": "ProgressStyleModel",
      "state": {
       "_model_module": "@jupyter-widgets/controls",
       "_model_module_version": "1.5.0",
       "_model_name": "ProgressStyleModel",
       "_view_count": null,
       "_view_module": "@jupyter-widgets/base",
       "_view_module_version": "1.2.0",
       "_view_name": "StyleView",
       "bar_color": null,
       "description_width": ""
      }
     },
     "6983daf926114669a4d427b26a692a2e": {
      "model_module": "@jupyter-widgets/controls",
      "model_module_version": "1.5.0",
      "model_name": "DescriptionStyleModel",
      "state": {
       "_model_module": "@jupyter-widgets/controls",
       "_model_module_version": "1.5.0",
       "_model_name": "DescriptionStyleModel",
       "_view_count": null,
       "_view_module": "@jupyter-widgets/base",
       "_view_module_version": "1.2.0",
       "_view_name": "StyleView",
       "description_width": ""
      }
     },
     "917f29a92e944d028f4ad3f630b9e930": {
      "model_module": "@jupyter-widgets/controls",
      "model_module_version": "1.5.0",
      "model_name": "HTMLModel",
      "state": {
       "_dom_classes": [],
       "_model_module": "@jupyter-widgets/controls",
       "_model_module_version": "1.5.0",
       "_model_name": "HTMLModel",
       "_view_count": null,
       "_view_module": "@jupyter-widgets/controls",
       "_view_module_version": "1.5.0",
       "_view_name": "HTMLView",
       "description": "",
       "description_tooltip": null,
       "layout": "IPY_MODEL_a4cd6532853a4353b6c6491703cc74fd",
       "placeholder": "​",
       "style": "IPY_MODEL_a821b4f55e5241af9bad64abd916cfa7",
       "value": "100%"
      }
     },
     "a4cd6532853a4353b6c6491703cc74fd": {
      "model_module": "@jupyter-widgets/base",
      "model_module_version": "1.2.0",
      "model_name": "LayoutModel",
      "state": {
       "_model_module": "@jupyter-widgets/base",
       "_model_module_version": "1.2.0",
       "_model_name": "LayoutModel",
       "_view_count": null,
       "_view_module": "@jupyter-widgets/base",
       "_view_module_version": "1.2.0",
       "_view_name": "LayoutView",
       "align_content": null,
       "align_items": null,
       "align_self": null,
       "border": null,
       "bottom": null,
       "display": null,
       "flex": null,
       "flex_flow": null,
       "grid_area": null,
       "grid_auto_columns": null,
       "grid_auto_flow": null,
       "grid_auto_rows": null,
       "grid_column": null,
       "grid_gap": null,
       "grid_row": null,
       "grid_template_areas": null,
       "grid_template_columns": null,
       "grid_template_rows": null,
       "height": null,
       "justify_content": null,
       "justify_items": null,
       "left": null,
       "margin": null,
       "max_height": null,
       "max_width": null,
       "min_height": null,
       "min_width": null,
       "object_fit": null,
       "object_position": null,
       "order": null,
       "overflow": null,
       "overflow_x": null,
       "overflow_y": null,
       "padding": null,
       "right": null,
       "top": null,
       "visibility": null,
       "width": null
      }
     },
     "a821b4f55e5241af9bad64abd916cfa7": {
      "model_module": "@jupyter-widgets/controls",
      "model_module_version": "1.5.0",
      "model_name": "DescriptionStyleModel",
      "state": {
       "_model_module": "@jupyter-widgets/controls",
       "_model_module_version": "1.5.0",
       "_model_name": "DescriptionStyleModel",
       "_view_count": null,
       "_view_module": "@jupyter-widgets/base",
       "_view_module_version": "1.2.0",
       "_view_name": "StyleView",
       "description_width": ""
      }
     },
     "bfc899f894784158aaa93ff2b189eaa8": {
      "model_module": "@jupyter-widgets/base",
      "model_module_version": "1.2.0",
      "model_name": "LayoutModel",
      "state": {
       "_model_module": "@jupyter-widgets/base",
       "_model_module_version": "1.2.0",
       "_model_name": "LayoutModel",
       "_view_count": null,
       "_view_module": "@jupyter-widgets/base",
       "_view_module_version": "1.2.0",
       "_view_name": "LayoutView",
       "align_content": null,
       "align_items": null,
       "align_self": null,
       "border": null,
       "bottom": null,
       "display": null,
       "flex": null,
       "flex_flow": null,
       "grid_area": null,
       "grid_auto_columns": null,
       "grid_auto_flow": null,
       "grid_auto_rows": null,
       "grid_column": null,
       "grid_gap": null,
       "grid_row": null,
       "grid_template_areas": null,
       "grid_template_columns": null,
       "grid_template_rows": null,
       "height": null,
       "justify_content": null,
       "justify_items": null,
       "left": null,
       "margin": null,
       "max_height": null,
       "max_width": null,
       "min_height": null,
       "min_width": null,
       "object_fit": null,
       "object_position": null,
       "order": null,
       "overflow": null,
       "overflow_x": null,
       "overflow_y": null,
       "padding": null,
       "right": null,
       "top": null,
       "visibility": null,
       "width": null
      }
     }
    },
    "version_major": 2,
    "version_minor": 0
   }
  }
 },
 "nbformat": 4,
 "nbformat_minor": 5
}
