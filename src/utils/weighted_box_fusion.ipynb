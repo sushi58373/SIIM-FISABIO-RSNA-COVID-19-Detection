{
 "cells": [
  {
   "cell_type": "markdown",
   "id": "adequate-wedding",
   "metadata": {},
   "source": [
    "### Weighted boxes fusion\n",
    "\n",
    "[github link](https://github.com/ZFTurbo/Weighted-Boxes-Fusion)\n",
    "\n",
    "* NMS : Non-maximum Supression\n",
    "* Soft-NMS\n",
    "* NMW : Non-maximum weighted\n",
    "* WBF : Weighted boxes fusion - new method which gives better results comparing to others"
   ]
  },
  {
   "cell_type": "code",
   "execution_count": 161,
   "id": "determined-strategy",
   "metadata": {},
   "outputs": [
    {
     "data": {
      "text/plain": [
       "['__author__',\n",
       " '__builtins__',\n",
       " '__cached__',\n",
       " '__doc__',\n",
       " '__file__',\n",
       " '__loader__',\n",
       " '__name__',\n",
       " '__package__',\n",
       " '__path__',\n",
       " '__spec__',\n",
       " 'ensemble_boxes_nms',\n",
       " 'ensemble_boxes_nmw',\n",
       " 'ensemble_boxes_wbf',\n",
       " 'ensemble_boxes_wbf_3d',\n",
       " 'nms',\n",
       " 'nms_method',\n",
       " 'non_maximum_weighted',\n",
       " 'soft_nms',\n",
       " 'weighted_boxes_fusion',\n",
       " 'weighted_boxes_fusion_3d']"
      ]
     },
     "execution_count": 161,
     "metadata": {},
     "output_type": "execute_result"
    }
   ],
   "source": [
    "import ensemble_boxes\n",
    "from ensemble_boxes import *\n",
    "from tqdm import tqdm\n",
    "import pandas as pd\n",
    "import numpy as np\n",
    "dir(ensemble_boxes)"
   ]
  },
  {
   "cell_type": "markdown",
   "id": "checked-portland",
   "metadata": {},
   "source": [
    "```py\n",
    "boxes, scores, labels = weighted_boxes_fusion(\n",
    "                                        boxes_list,\n",
    "                                        scores_list,\n",
    "                                        labels_list,\n",
    "                                        weights=None,\n",
    "                                        iou_thr=0.55,\n",
    "                                        skip_box_thr=0.0,\n",
    "                                        conf_type='avg',\n",
    "                                        allows_overflow=False,\n",
    ")\n",
    "\n",
    "```"
   ]
  },
  {
   "cell_type": "code",
   "execution_count": 7,
   "id": "tender-spray",
   "metadata": {},
   "outputs": [
    {
     "data": {
      "text/plain": [
       "<function ensemble_boxes.ensemble_boxes_wbf.weighted_boxes_fusion(boxes_list, scores_list, labels_list, weights=None, iou_thr=0.55, skip_box_thr=0.0, conf_type='avg', allows_overflow=False)>"
      ]
     },
     "execution_count": 7,
     "metadata": {},
     "output_type": "execute_result"
    }
   ],
   "source": [
    "def weighted_boxes_fusion_code(boxes_list, \n",
    "                               scores_list, \n",
    "                               labels_list, \n",
    "                               weights=None, \n",
    "                               iou_thr=0.55, \n",
    "                               skip_box_thr=0.0, \n",
    "                               conf_type='avg', \n",
    "                               allows_overflow=False):\n",
    "    '''\n",
    "    :param boxes_list: list of boxes predictions from each model, each box is 4 numbers.\n",
    "    It has 3 dimensions (models_number, model_preds, 4)\n",
    "    Order of boxes: x1, y1, x2, y2. We expect float normalized coordinates [0; 1]\n",
    "    :param scores_list: list of scores for each model\n",
    "    :param labels_list: list of labels for each model\n",
    "    :param weights: list of weights for each model. Default: None, which means weight == 1 for each model\n",
    "    :param iou_thr: IoU value for boxes to be a match\n",
    "    :param skip_box_thr: exclude boxes with score lower than this variable\n",
    "    :param conf_type: how to calculate confidence in weighted boxes. \n",
    "        'avg': average value, \n",
    "        'max': maximum value, \n",
    "        'box_and_model_avg': box and model wise hybrid weighted average, \n",
    "        'absent_model_aware_avg': weighted average that takes into account the absent model.\n",
    "    :param allows_overflow: false if we want confidence score not exceed 1.0\n",
    "\n",
    "    :return: boxes: boxes coordinates (Order of boxes: x1, y1, x2, y2).\n",
    "    :return: scores: confidence scores\n",
    "    :return: labels: boxes labels\n",
    "    '''\n",
    "\n",
    "    if weights is None:\n",
    "        weights = np.ones(len(boxes_list))\n",
    "    if len(weights) != len(boxes_list):\n",
    "        print('Warning: incorrect number of weights {}. Must be: {}. Set weights equal to 1.'.format(len(weights), len(boxes_list)))\n",
    "        weights = np.ones(len(boxes_list))\n",
    "    weights = np.array(weights)\n",
    "\n",
    "    if conf_type not in ['avg', 'max', 'box_and_model_avg', 'absent_model_aware_avg']:\n",
    "        print('Unknown conf_type: {}. Must be \"avg\", \"max\" or \"box_and_model_avg\", or \"absent_model_aware_avg\"'.format(conf_type))\n",
    "        exit()\n",
    "    \n",
    "    # boxes(x,y,w,h) 들 중에, 이상한 값이 없는지 체크\n",
    "    filtered_boxes = prefilter_boxes(boxes_list, scores_list, labels_list, weights, skip_box_thr)\n",
    "    if len(filtered_boxes) == 0:\n",
    "        return np.zeros((0, 4)), np.zeros((0,)), np.zeros((0,))\n",
    "\n",
    "    overall_boxes = []\n",
    "    for label in filtered_boxes:\n",
    "        boxes = filtered_boxes[label]\n",
    "        new_boxes = []\n",
    "        weighted_boxes = []\n",
    "        # Clusterize boxes\n",
    "        for j in range(0, len(boxes)):\n",
    "            index, best_iou = find_matching_box(weighted_boxes, boxes[j], iou_thr)\n",
    "            if index != -1:\n",
    "                new_boxes[index].append(boxes[j])\n",
    "                weighted_boxes[index] = get_weighted_box(new_boxes[index], conf_type)\n",
    "            else:\n",
    "                new_boxes.append([boxes[j].copy()])\n",
    "                weighted_boxes.append(boxes[j].copy())\n",
    "        # Rescale confidence based on number of models and boxes\n",
    "        for i in range(len(new_boxes)):\n",
    "            clustered_boxes = np.array(new_boxes[i])\n",
    "            if conf_type == 'box_and_model_avg':\n",
    "                # weighted average for boxes\n",
    "                weighted_boxes[i][1] = weighted_boxes[i][1] * len(clustered_boxes) / weighted_boxes[i][2]\n",
    "                # identify unique model index by model index column\n",
    "                _, idx = np.unique(clustered_boxes[:, 3], return_index=True)\n",
    "                # rescale by unique model weights\n",
    "                weighted_boxes[i][1] = weighted_boxes[i][1] *  clustered_boxes[idx, 2].sum() / weights.sum()\n",
    "\n",
    "            elif conf_type == 'absent_model_aware_avg':\n",
    "                # get unique model index in the cluster\n",
    "                models = np.unique(clustered_boxes[:, 3]).astype(int)\n",
    "                # create a mask to get unused model weights\n",
    "                mask = np.ones(len(weights), dtype=bool)\n",
    "                mask[models] = False\n",
    "                # absent model aware weighted average\n",
    "                weighted_boxes[i][1] = weighted_boxes[i][1] * len(clustered_boxes) / (weighted_boxes[i][2] + weights[mask].sum())\n",
    "            elif not allows_overflow:\n",
    "                weighted_boxes[i][1] = weighted_boxes[i][1] * min(weights.sum(), len(clustered_boxes)) / weights.sum()\n",
    "            else:\n",
    "                weighted_boxes[i][1] = weighted_boxes[i][1] * len(clustered_boxes) / weights.sum()\n",
    "        overall_boxes.append(np.array(weighted_boxes))\n",
    "    overall_boxes = np.concatenate(overall_boxes, axis=0)\n",
    "    overall_boxes = overall_boxes[overall_boxes[:, 1].argsort()[::-1]]\n",
    "    boxes = overall_boxes[:, 4:]\n",
    "    scores = overall_boxes[:, 1]\n",
    "    labels = overall_boxes[:, 0]\n",
    "    return boxes, scores, labels"
   ]
  },
  {
   "cell_type": "code",
   "execution_count": 10,
   "id": "settled-island",
   "metadata": {},
   "outputs": [],
   "source": [
    "# example with siim sample prediction\n",
    "kfold_ids = [['51759b5579bc_image', '65761e66de9f_image'],\n",
    "             ['51759b5579bc_image', '65761e66de9f_image'],\n",
    "             ['51759b5579bc_image', '65761e66de9f_image'],\n",
    "             ['51759b5579bc_image', '65761e66de9f_image'],\n",
    "             ['51759b5579bc_image', '65761e66de9f_image']]\n",
    "\n",
    "kfold_predictions = [\n",
    " ['0 0.001079560025 1625 1891 2427 2416 0 0.001121519948 1937 1299 2394 1758 0 0.001185419969 384 501 1097 1655 0 0.001243590028 423 816 757 1214 0 0.001252169954 289 809 662 1365 0 0.001281740027 579 1909 1169 2416 0 0.001282689977 334 1317 774 1903 0 0.001399039989 2137 1389 2527 1843 0 0.001568789943 1915 1927 2705 2398 0 0.001731869997 2154 1305 2655 2090 0 0.001977920067 540 1631 1102 2344 0 0.002027509967 1648 1855 2739 2604 0 0.002063750057 106 1607 629 2453 0 0.002161029959 328 2380 1386 3093 0 0.002309799893 334 665 891 1516 0 0.002346039983 406 1504 640 1716 0 0.003021240002 1653 1250 2327 2030 0 0.003068919992 379 1389 946 2235 0 0.003293989925 262 761 718 1849 0 0.004394529853 2082 1172 2572 1879 0 0.004405979998 1870 731 2427 1432 0 0.004520419985 1648 683 2433 1957 0 0.004955289885 223 1861 1280 2984 0 0.008049010299 1753 1565 2627 2422 0 0.009658809751 217 1009 774 2332 0 0.010353099555 289 731 980 2205 0 0.01126859989 195 1909 1124 2580 0 0.017990099266 2132 870 2405 1148 0 0.024032600224 1959 803 2483 1836 0 0.055938698351 223 1595 991 2441 0 0.071472197771 1887 1293 2549 2006',\n",
    "  '0 0.001008030027 1854 218 2180 496 0 0.001054759952 592 765 929 1433 0 0.001077649998 1935 1001 2566 1656 0 0.001135829953 1930 637 2120 837 0 0.001306529972 837 1028 1288 1402 0 0.001331330044 783 519 1218 1192 0 0.001547810039 1859 346 2234 1069 0 0.001607890008 1707 746 2201 1465 0 0.002017969964 984 965 1353 1452 0 0.002161029959 1968 1106 2413 1474 0 0.002372740069 1832 246 2174 719 0 0.0026378599 2087 810 2375 1270 0 0.002689359942 1707 296 2212 1329 0 0.003168110037 1033 264 1402 1038 0 0.00460051978 902 724 1370 1393 0 0.005111690145 891 150 1424 1238 0 0.005161290057 761 978 1196 1324 0 0.005950930063 625 988 1283 1552 0 0.009033200331 674 637 1044 1356 0 0.009437560104 2104 906 2435 1488 0 0.010429400019 652 951 1049 1424 0 0.010986300185 2044 564 2430 1402 0 0.013572700322 1783 1033 2364 1570 0 0.030456500128 734 268 1277 1374 0 0.038452100009 1859 282 2381 1402 0 0.163330003619 707 810 1245 1397 0 0.194580003619 1892 801 2403 1470'],\n",
    " ['0 0.001277919975 362 1933 1013 2380 0 0.001929279999 2549 18 2844 858 0 0.002140050055 106 1716 590 2441 0 0.002977370052 1497 1861 2410 2477 0 0.004566189833 2182 1879 2672 2265 0 0.005298609845 1859 1353 2666 2253 0 0.006763460115 134 1516 885 2392 0 0.015571599826 1943 1915 2739 2356 0 0.034973099828 1759 1679 2694 2428 0 0.051208499819 161 1836 985 2513',\n",
    "  '0 0.001050950028 1718 282 2147 801 0 0.001279830001 1875 441 2163 751 0 0.001294140005 734 974 1207 1320 0 0.001404760056 1054 528 1381 1151 0 0.001426700037 1739 1065 2566 1793 0 0.001428600051 1968 1074 2413 1429 0 0.001559259952 571 774 946 1424 0 0.001584050013 1718 924 2196 1525 0 0.002174380003 587 974 1332 1561 0 0.002939220052 853 792 1413 1438 0 0.004863739945 663 491 1060 1370 0 0.005016330164 1995 1010 2517 1647 0 0.005287169944 1767 555 2191 1402 0 0.005298609845 1837 360 2218 874 0 0.006031040102 968 355 1375 1329 0 0.008674619719 821 596 1315 1274 0 0.009109499864 2076 805 2457 1465 0 0.010925300419 1777 282 2245 1142 0 0.018096899614 625 901 1098 1461 0 0.041534401476 712 255 1326 1365 0 0.06671140343 1843 906 2435 1520 0 0.087585397065 1843 441 2408 1443 0 0.133056998253 674 751 1250 1402'],\n",
    " ['0 0.001069069956 2071 1432 2516 1903 0 0.001071930048 434 1432 1046 2205 0 0.001148220035 345 1981 946 2422 0 0.001200680039 278 1710 879 2477 0 0.001334190019 1637 1462 2321 2187 0 0.00133990997 2110 1909 2839 2537 0 0.001671790029 507 1631 1230 2441 0 0.002344130073 195 677 779 2410 0 0.002744670026 2199 1836 2744 2314 0 0.002750399988 345 574 1119 2404 0 0.002830510028 72 1571 662 2495 0 0.003356930101 1726 1263 2488 2006 0 0.003517149948 1776 834 1881 979 0 0.004467010032 779 598 1030 930 0 0.005176539999 1926 1969 2755 2368 0 0.00624846993 2087 1323 2611 2120 0 0.009170530364 2215 1981 2627 2241 0 0.010810899548 2204 918 2399 1166 0 0.017578100786 189 1335 1024 2465 0 0.0211334005 785 634 980 834 0 0.033538799733 1664 1800 2744 2573 0 0.035644501448 117 1855 1063 2555 0 0.065368697047 1765 1365 2672 2284',\n",
    "  '0 0.00100230996 2136 1083 2413 1497 0 0.001049999963 777 505 1245 1206 0 0.001782419975 1837 582 2294 1265 0 0.002706530038 1729 892 2283 1506 0 0.002946849912 717 1033 1239 1393 0 0.005855559837 652 587 1076 1402 0 0.006282810122 625 942 1109 1443 0 0.006862639915 1957 1083 2446 1575 0 0.008918760344 908 710 1375 1406 0 0.011115999892 587 974 1348 1547 0 0.016037000343 1783 200 2359 1502 0 0.028732299805 1767 960 2511 1643 0 0.050811801106 756 173 1381 1433 0 0.13513199985 696 760 1272 1433 0 0.139403998852 1854 701 2419 1525'],\n",
    " ['0 0.001006130013 117 0 1247 278 0 0.00101757003 373 1661 918 2151 0 0.001114850049 612 1329 1136 2102 0 0.001125340001 623 1607 1163 2362 0 0.001224520034 1547 961 2416 2078 0 0.001236920012 746 580 996 864 0 0.001264570048 2071 1263 2755 2277 0 0.001321790041 0 0 1013 592 0 0.001451489981 273 2066 918 2513 0 0.00148392003 2176 1957 2722 2314 0 0.00182723999 779 344 1213 900 0 0.001972200116 1954 834 2444 1238 0 0.001985549927 301 930 1019 2120 0 0.002172470093 78 1861 674 2537 0 0.002866740106 1603 1414 2338 2187 0 0.003252029885 1982 1190 2549 1897 0 0.003602979938 6 2042 1024 2833 0 0.004020689987 1887 761 2561 1975 0 0.007167819887 1982 1782 2772 2441 0 0.008216859773 1742 1522 2711 2477 0 0.008255000226 401 1734 1102 2453 0 0.011337299831 484 1546 1024 2084 0 0.030761700124 273 1474 1035 2350 0 0.071838401258 1792 1244 2622 2114 0 0.09014890343 161 1903 1080 2586',\n",
    "  '0 0.001395229949 1859 228 2207 664 0 0.001507760026 837 428 1305 1115 0 0.001551629975 1805 1028 2256 1406 0 0.00233649998 1881 1270 2533 1839 0 0.002340320032 1848 1051 2783 2321 0 0.002706530038 712 969 1158 1333 0 0.002719880082 870 109 1424 1160 0 0.002773280023 1859 655 2375 1356 0 0.002847670112 1951 1106 2403 1474 0 0.002912519965 1821 332 2272 1092 0 0.003772740019 598 856 962 1406 0 0.004974369891 1712 810 2267 1479 0 0.005367279984 799 646 1337 1356 0 0.005844119936 2022 805 2457 1479 0 0.00597763015 614 623 1087 1388 0 0.008445739746 576 1024 1141 1470 0 0.00851439964 2033 1060 2495 1620 0 0.008987429552 788 1028 1337 1474 0 0.01352689974 1674 1056 2462 1857 0 0.014770500362 1821 205 2180 482 0 0.037597700953 663 228 1348 1406 0 0.037811301649 1739 223 2381 1452 0 0.119079999626 647 828 1277 1429 0 0.153075993061 1815 983 2446 1565'],\n",
    " ['0 0.001167300041 0 2797 345 3087 0 0.001195910037 1765 973 2471 1873 0 0.001237869961 184 1009 1013 2223 0 0.001709940028 2260 1939 2733 2326 0 0.001749990042 1876 1957 2683 2314 0 0.001759530045 395 1963 991 2332 0 0.001902580028 1631 1269 2382 2048 0 0.002372740069 156 1740 696 2428 0 0.002603529952 2099 1051 2583 2000 0 0.003074649954 568 1607 1058 2181 0 0.004138949793 2021 1426 2483 1903 0 0.004631040152 2227 1963 2627 2169 0 0.00581741007 390 1414 963 2187 0 0.006683350075 1881 562 2538 2090 0 0.008979800157 2160 1414 2661 2151 0 0.009071350098 2093 1764 2672 2235 0 0.013450600207 1826 1625 2677 2308 0 0.013641400263 139 1963 1013 2489 0 0.035247799009 189 1595 985 2404 0 0.083984397352 1865 1269 2622 2102',\n",
    "  '0 0.001200680039 669 1028 957 1402 0 0.001213070005 1805 282 2277 960 0 0.001418109983 1837 992 2316 1379 0 0.001681330032 745 801 1049 1283 0 0.001708979951 1848 592 2310 1256 0 0.002075199969 2087 805 2375 1265 0 0.002349850023 739 1001 1060 1356 0 0.002733229892 2076 1042 2392 1415 0 0.002761839889 924 1047 1272 1397 0 0.003011699999 1864 241 2158 555 0 0.003952030092 891 742 1359 1374 0 0.005191800185 788 928 1169 1311 0 0.005493159872 2022 592 2435 1374 0 0.007041930221 2055 906 2462 1497 0 0.008911130019 690 605 1114 1338 0 0.010368299671 783 1010 1326 1470 0 0.0128250001 641 956 1125 1429 0 0.014846799895 1826 1069 2446 1534 0 0.020080599934 1767 264 2392 1370 0 0.025146499276 745 282 1299 1352 0 0.143676996231 1881 815 2403 1443 0 0.159789994359 723 828 1250 1393']]"
   ]
  },
  {
   "cell_type": "code",
   "execution_count": 107,
   "id": "pursuant-horizon",
   "metadata": {},
   "outputs": [
    {
     "data": {
      "text/plain": [
       "['0 0.001079560025 1625 1891 2427 2416 0 0.001121519948 1937 1299 2394 1758 0 0.001185419969 384 501 1097 1655 0 0.001243590028 423 816 757 1214 0 0.001252169954 289 809 662 1365 0 0.001281740027 579 1909 1169 2416 0 0.001282689977 334 1317 774 1903 0 0.001399039989 2137 1389 2527 1843 0 0.001568789943 1915 1927 2705 2398 0 0.001731869997 2154 1305 2655 2090 0 0.001977920067 540 1631 1102 2344 0 0.002027509967 1648 1855 2739 2604 0 0.002063750057 106 1607 629 2453 0 0.002161029959 328 2380 1386 3093 0 0.002309799893 334 665 891 1516 0 0.002346039983 406 1504 640 1716 0 0.003021240002 1653 1250 2327 2030 0 0.003068919992 379 1389 946 2235 0 0.003293989925 262 761 718 1849 0 0.004394529853 2082 1172 2572 1879 0 0.004405979998 1870 731 2427 1432 0 0.004520419985 1648 683 2433 1957 0 0.004955289885 223 1861 1280 2984 0 0.008049010299 1753 1565 2627 2422 0 0.009658809751 217 1009 774 2332 0 0.010353099555 289 731 980 2205 0 0.01126859989 195 1909 1124 2580 0 0.017990099266 2132 870 2405 1148 0 0.024032600224 1959 803 2483 1836 0 0.055938698351 223 1595 991 2441 0 0.071472197771 1887 1293 2549 2006',\n",
       " '0 0.001008030027 1854 218 2180 496 0 0.001054759952 592 765 929 1433 0 0.001077649998 1935 1001 2566 1656 0 0.001135829953 1930 637 2120 837 0 0.001306529972 837 1028 1288 1402 0 0.001331330044 783 519 1218 1192 0 0.001547810039 1859 346 2234 1069 0 0.001607890008 1707 746 2201 1465 0 0.002017969964 984 965 1353 1452 0 0.002161029959 1968 1106 2413 1474 0 0.002372740069 1832 246 2174 719 0 0.0026378599 2087 810 2375 1270 0 0.002689359942 1707 296 2212 1329 0 0.003168110037 1033 264 1402 1038 0 0.00460051978 902 724 1370 1393 0 0.005111690145 891 150 1424 1238 0 0.005161290057 761 978 1196 1324 0 0.005950930063 625 988 1283 1552 0 0.009033200331 674 637 1044 1356 0 0.009437560104 2104 906 2435 1488 0 0.010429400019 652 951 1049 1424 0 0.010986300185 2044 564 2430 1402 0 0.013572700322 1783 1033 2364 1570 0 0.030456500128 734 268 1277 1374 0 0.038452100009 1859 282 2381 1402 0 0.163330003619 707 810 1245 1397 0 0.194580003619 1892 801 2403 1470']"
      ]
     },
     "execution_count": 107,
     "metadata": {},
     "output_type": "execute_result"
    }
   ],
   "source": [
    "kfold_predictions[0]"
   ]
  },
  {
   "cell_type": "code",
   "execution_count": 108,
   "id": "happy-silicon",
   "metadata": {},
   "outputs": [
    {
     "data": {
      "text/plain": [
       "'0 0.001079560025 1625 1891 2427 2416 0 0.001121519948 1937 1299 2394 1758 0 0.001185419969 384 501 1097 1655 0 0.001243590028 423 816 757 1214 0 0.001252169954 289 809 662 1365 0 0.001281740027 579 1909 1169 2416 0 0.001282689977 334 1317 774 1903 0 0.001399039989 2137 1389 2527 1843 0 0.001568789943 1915 1927 2705 2398 0 0.001731869997 2154 1305 2655 2090 0 0.001977920067 540 1631 1102 2344 0 0.002027509967 1648 1855 2739 2604 0 0.002063750057 106 1607 629 2453 0 0.002161029959 328 2380 1386 3093 0 0.002309799893 334 665 891 1516 0 0.002346039983 406 1504 640 1716 0 0.003021240002 1653 1250 2327 2030 0 0.003068919992 379 1389 946 2235 0 0.003293989925 262 761 718 1849 0 0.004394529853 2082 1172 2572 1879 0 0.004405979998 1870 731 2427 1432 0 0.004520419985 1648 683 2433 1957 0 0.004955289885 223 1861 1280 2984 0 0.008049010299 1753 1565 2627 2422 0 0.009658809751 217 1009 774 2332 0 0.010353099555 289 731 980 2205 0 0.01126859989 195 1909 1124 2580 0 0.017990099266 2132 870 2405 1148 0 0.024032600224 1959 803 2483 1836 0 0.055938698351 223 1595 991 2441 0 0.071472197771 1887 1293 2549 2006'"
      ]
     },
     "execution_count": 108,
     "metadata": {},
     "output_type": "execute_result"
    }
   ],
   "source": [
    "kfold_predictions[0][0]"
   ]
  },
  {
   "cell_type": "code",
   "execution_count": 129,
   "id": "unknown-equilibrium",
   "metadata": {},
   "outputs": [],
   "source": [
    "# predictions = (model(fold), image, boxes)\n",
    "# change = (image, model(fold), boxes)\n",
    "\n",
    "kfold_id = kfold_ids[0]\n",
    "\n",
    "boxes_list = []\n",
    "scores_list = []\n",
    "labels_list = []\n",
    "\n",
    "# 각 모델이 image 당 예측한 것을 뽑아내기\n",
    "\n",
    "# fold 순으로 하나씩 append\n",
    "\n",
    "for i in range(len(kfold_id)):\n",
    "    image_boxes = []\n",
    "    image_scores = []\n",
    "    image_labels = []\n",
    "    \n",
    "    for fold in range(5):\n",
    "        # (image, boxes) <- each model\n",
    "        temp_image = kfold_predictions[fold][i].split()\n",
    "        boxes = []\n",
    "        scores = []\n",
    "        labels = []\n",
    "        for j in range(len(temp_image)//6):\n",
    "            temp = temp_image[j*6:j*6+6]\n",
    "            labels.append(int(temp[0]))\n",
    "            scores.append(float(temp[1]))\n",
    "            boxes.append(list(map(int,temp[2:])))\n",
    "\n",
    "        image_boxes.append(boxes)\n",
    "        image_scores.append(scores)\n",
    "        image_labels.append(labels)\n",
    "    \n",
    "    boxes_list.append(image_boxes)\n",
    "    scores_list.append(image_scores)\n",
    "    labels_list.append(image_labels)"
   ]
  },
  {
   "cell_type": "code",
   "execution_count": 150,
   "id": "electoral-proposal",
   "metadata": {},
   "outputs": [
    {
     "name": "stdout",
     "output_type": "stream",
     "text": [
      "image : 2\n",
      "fold  : 5\n",
      "num boxes\n",
      "31\n",
      "10\n",
      "23\n",
      "25\n",
      "20\n"
     ]
    }
   ],
   "source": [
    "print('image :',len(boxes_list))\n",
    "print('fold  :',len(boxes_list[0]))\n",
    "print('num boxes')\n",
    "for i in boxes_list[0]:\n",
    "    print(len(i))"
   ]
  },
  {
   "cell_type": "code",
   "execution_count": 159,
   "id": "demonstrated-harris",
   "metadata": {},
   "outputs": [],
   "source": [
    "wbf_boxes_list = []\n",
    "wbf_scores_list = []\n",
    "wbf_labels_list = []\n",
    "\n",
    "for boxes, scores, labels in zip(boxes_list, scores_list, labels_list): # by image\n",
    "\n",
    "    \n",
    "    boxes, scores, labels = weighted_boxes_fusion(boxes, \n",
    "                                                  scores, \n",
    "                                                  labels, \n",
    "                                                  weights=None, \n",
    "                                                  iou_thr=0.9, \n",
    "                                                  skip_box_thr=0.0, \n",
    "                                                  conf_type='avg', \n",
    "                                                  allows_overflow=False)\n",
    "    \n",
    "    wbf_boxes_list.append(boxes)\n",
    "    wbf_scores_list.append(scores)\n",
    "    wbf_labels_list.append(labels)"
   ]
  },
  {
   "cell_type": "code",
   "execution_count": 210,
   "id": "accessory-topic",
   "metadata": {},
   "outputs": [
    {
     "data": {
      "text/plain": [
       "[array([[0., 0., 1., 1.]]), array([], shape=(0, 4), dtype=float64)]"
      ]
     },
     "execution_count": 210,
     "metadata": {},
     "output_type": "execute_result"
    }
   ],
   "source": [
    "# Ah. weighted_boxes_fusion 은 [0,1] 사이의 비율로 float 받는데, 나는 결론이 난 결과물을 들이밀고 있었다.\n",
    "# 그러니 결과가 안나오지... 잘 읽어보자...\n",
    "wbf_boxes_list"
   ]
  },
  {
   "cell_type": "code",
   "execution_count": 167,
   "id": "viral-publication",
   "metadata": {},
   "outputs": [
    {
     "data": {
      "text/html": [
       "<div>\n",
       "<style scoped>\n",
       "    .dataframe tbody tr th:only-of-type {\n",
       "        vertical-align: middle;\n",
       "    }\n",
       "\n",
       "    .dataframe tbody tr th {\n",
       "        vertical-align: top;\n",
       "    }\n",
       "\n",
       "    .dataframe thead th {\n",
       "        text-align: right;\n",
       "    }\n",
       "</style>\n",
       "<table border=\"1\" class=\"dataframe\">\n",
       "  <thead>\n",
       "    <tr style=\"text-align: right;\">\n",
       "      <th></th>\n",
       "      <th>id</th>\n",
       "      <th>PredictionString</th>\n",
       "    </tr>\n",
       "  </thead>\n",
       "  <tbody>\n",
       "    <tr>\n",
       "      <th>0</th>\n",
       "      <td>51759b5579bc_image</td>\n",
       "      <td>0 0.001079560025 1625 1891 2427 2416 0 0.00112...</td>\n",
       "    </tr>\n",
       "    <tr>\n",
       "      <th>1</th>\n",
       "      <td>65761e66de9f_image</td>\n",
       "      <td>0 0.001008030027 1854 218 2180 496 0 0.0010547...</td>\n",
       "    </tr>\n",
       "  </tbody>\n",
       "</table>\n",
       "</div>"
      ],
      "text/plain": [
       "                   id                                   PredictionString\n",
       "0  51759b5579bc_image  0 0.001079560025 1625 1891 2427 2416 0 0.00112...\n",
       "1  65761e66de9f_image  0 0.001008030027 1854 218 2180 496 0 0.0010547..."
      ]
     },
     "execution_count": 167,
     "metadata": {},
     "output_type": "execute_result"
    }
   ],
   "source": [
    "kfold_df.iloc[0:2,:]"
   ]
  },
  {
   "cell_type": "code",
   "execution_count": 180,
   "id": "beneficial-pollution",
   "metadata": {},
   "outputs": [],
   "source": [
    "kfold_df = pd.read_csv(\"./kfold_df.csv\")\n",
    "folds = 5\n",
    "subs = [kfold_df.iloc[i*2:i*2+2].reset_index(drop=True) for i in range(folds)]"
   ]
  },
  {
   "cell_type": "markdown",
   "id": "heavy-cholesterol",
   "metadata": {},
   "source": [
    "### Reference code\n",
    "\n",
    "Notebook link : https://www.kaggle.com/morizin/wbf-ensemble"
   ]
  },
  {
   "cell_type": "code",
   "execution_count": 333,
   "id": "damaged-relay",
   "metadata": {},
   "outputs": [
    {
     "data": {
      "text/plain": [
       "['./dummy/kfold_result_dir/kfold_0_yolo.csv',\n",
       " './dummy/kfold_result_dir/kfold_1_yolo.csv',\n",
       " './dummy/kfold_result_dir/kfold_df_yolo.csv',\n",
       " './dummy/kfold_result_dir/meta.csv',\n",
       " './dummy/kfold_result_dir/kfold_3_yolo.csv',\n",
       " './dummy/kfold_result_dir/kfold_2_yolo.csv',\n",
       " './dummy/kfold_result_dir/kfold_4_yolo.csv']"
      ]
     },
     "execution_count": 333,
     "metadata": {},
     "output_type": "execute_result"
    }
   ],
   "source": [
    "from glob import glob\n",
    "\n",
    "data = glob('./dummy/kfold_result_dir/*')\n",
    "data"
   ]
  },
  {
   "cell_type": "code",
   "execution_count": 334,
   "id": "average-member",
   "metadata": {},
   "outputs": [],
   "source": [
    "height_dict = pd.read_csv('./dummy/kfold_result_dir/meta.csv')\n",
    "height_dict.columns = ['image_id','width','height','split']\n",
    "height_dict = height_dict[['image_id','width','height']]\n",
    "height_dict = height_dict.to_dict('records')\n",
    "# to_dict('records') : 기록처럼 list 화"
   ]
  },
  {
   "cell_type": "code",
   "execution_count": 335,
   "id": "recreational-criterion",
   "metadata": {},
   "outputs": [
    {
     "data": {
      "text/plain": [
       "[{'image_id': '65761e66de9f_image', 'width': 2330, 'height': 2783},\n",
       " {'image_id': '51759b5579bc_image', 'width': 3093, 'height': 2850}]"
      ]
     },
     "execution_count": 335,
     "metadata": {},
     "output_type": "execute_result"
    }
   ],
   "source": [
    "height_dict"
   ]
  },
  {
   "cell_type": "code",
   "execution_count": 336,
   "id": "coated-patch",
   "metadata": {},
   "outputs": [
    {
     "data": {
      "text/plain": [
       "{'65761e66de9f_image': [2330, 2783, 2330, 2783],\n",
       " '51759b5579bc_image': [3093, 2850, 3093, 2850]}"
      ]
     },
     "execution_count": 336,
     "metadata": {},
     "output_type": "execute_result"
    }
   ],
   "source": [
    "fnl_dict = {}\n",
    "for ix, i in enumerate(height_dict):\n",
    "    fnl_dict[i['image_id']] = [i['width'],i['height'],i['width'],i['height']]\n",
    "fnl_dict"
   ]
  },
  {
   "cell_type": "code",
   "execution_count": 337,
   "id": "together-community",
   "metadata": {},
   "outputs": [],
   "source": [
    "subs = [\n",
    "pd.read_csv('./dummy/kfold_result_dir/kfold_0_yolo.csv'),\n",
    "pd.read_csv('./dummy/kfold_result_dir/kfold_1_yolo.csv'),\n",
    "pd.read_csv('./dummy/kfold_result_dir/kfold_3_yolo.csv'),\n",
    "pd.read_csv('./dummy/kfold_result_dir/kfold_2_yolo.csv'),\n",
    "pd.read_csv('./dummy/kfold_result_dir/kfold_4_yolo.csv')]"
   ]
  },
  {
   "cell_type": "code",
   "execution_count": 338,
   "id": "multiple-alexander",
   "metadata": {},
   "outputs": [
    {
     "data": {
      "text/html": [
       "<div>\n",
       "<style scoped>\n",
       "    .dataframe tbody tr th:only-of-type {\n",
       "        vertical-align: middle;\n",
       "    }\n",
       "\n",
       "    .dataframe tbody tr th {\n",
       "        vertical-align: top;\n",
       "    }\n",
       "\n",
       "    .dataframe thead th {\n",
       "        text-align: right;\n",
       "    }\n",
       "</style>\n",
       "<table border=\"1\" class=\"dataframe\">\n",
       "  <thead>\n",
       "    <tr style=\"text-align: right;\">\n",
       "      <th></th>\n",
       "      <th>id</th>\n",
       "      <th>PredictionString</th>\n",
       "    </tr>\n",
       "  </thead>\n",
       "  <tbody>\n",
       "    <tr>\n",
       "      <th>0</th>\n",
       "      <td>51759b5579bc_image</td>\n",
       "      <td>0 0.001079560025 1625 1891 2427 2416 0 0.00112...</td>\n",
       "    </tr>\n",
       "    <tr>\n",
       "      <th>1</th>\n",
       "      <td>65761e66de9f_image</td>\n",
       "      <td>0 0.001008030027 1854 218 2180 496 0 0.0010547...</td>\n",
       "    </tr>\n",
       "  </tbody>\n",
       "</table>\n",
       "</div>"
      ],
      "text/plain": [
       "                   id                                   PredictionString\n",
       "0  51759b5579bc_image  0 0.001079560025 1625 1891 2427 2416 0 0.00112...\n",
       "1  65761e66de9f_image  0 0.001008030027 1854 218 2180 496 0 0.0010547..."
      ]
     },
     "execution_count": 338,
     "metadata": {},
     "output_type": "execute_result"
    }
   ],
   "source": [
    "# sample\n",
    "pd.read_csv('./dummy/kfold_result_dir/kfold_0_yolo.csv')"
   ]
  },
  {
   "cell_type": "code",
   "execution_count": 339,
   "id": "simple-amino",
   "metadata": {},
   "outputs": [],
   "source": [
    "def submission_decoder(df:pd.DataFrame) -> np.ndarray:\n",
    "    info = df.values\n",
    "    df_lst = []\n",
    "    for i in info:\n",
    "        pre_lst = i[1].split(' ')\n",
    "        for j in range(0, len(pre_lst), 6):\n",
    "            df_lst.append([i[0], int(pre_lst[j]), float(pre_lst[j+1]),\n",
    "                           int(pre_lst[j+2]), int(pre_lst[j+3]),\n",
    "                           int(pre_lst[j+4]), int(pre_lst[j+5]),\n",
    "                           fnl_dict.get(i[0])[0], fnl_dict.get(i[0])[1]])\n",
    "    return pd.DataFrame(df_lst, columns = ['image_id', 'class_id', 'score',\n",
    "                                           'x_min','y_min','x_max','y_max',\n",
    "                                           'width','height'])"
   ]
  },
  {
   "cell_type": "code",
   "execution_count": 340,
   "id": "preceding-newspaper",
   "metadata": {},
   "outputs": [],
   "source": [
    "subs = [submission_decoder(subs[i]) for i in range(len(subs))]"
   ]
  },
  {
   "cell_type": "code",
   "execution_count": 341,
   "id": "spectacular-aberdeen",
   "metadata": {},
   "outputs": [
    {
     "name": "stderr",
     "output_type": "stream",
     "text": [
      "100%|██████████| 2/2 [00:00<00:00, 151.95it/s]\n"
     ]
    }
   ],
   "source": [
    "boxes_dict = {}\n",
    "scores_dict = {}\n",
    "labels_dict = {}\n",
    "whwh_dict = {}\n",
    "\n",
    "for i in tqdm(subs[0].image_id.unique()):\n",
    "    if not i in boxes_dict.keys():\n",
    "        boxes_dict[i] = []\n",
    "        scores_dict[i] = []\n",
    "        labels_dict[i] = []\n",
    "        whwh_dict[i] = []\n",
    "        \n",
    "    size_ratio = fnl_dict.get(i)\n",
    "    whwh_dict[i].append(size_ratio)\n",
    "    tmp_df = [subs[x][subs[x]['image_id']==i] for x in range(len(subs))]\n",
    "    \n",
    "    for x in range(len(tmp_df)):\n",
    "        boxes_dict[i].append(((tmp_df[x][['x_min','y_min','x_max','y_max']].values)/size_ratio).tolist())\n",
    "        scores_dict[i].append(tmp_df[x]['score'].values.tolist())\n",
    "        labels_dict[i].append(tmp_df[x]['class_id'].values.tolist())"
   ]
  },
  {
   "cell_type": "code",
   "execution_count": 342,
   "id": "subtle-context",
   "metadata": {},
   "outputs": [
    {
     "name": "stderr",
     "output_type": "stream",
     "text": [
      "  0%|          | 0/2 [00:00<?, ?it/s]/Users/madquer/opt/anaconda3/envs/data/lib/python3.7/site-packages/ensemble_boxes/ensemble_boxes_wbf.py:85: UserWarning: Y2 > 1 in box. Set it to 1. Check that you normalize boxes in [0, 1] range.\n",
      "  warnings.warn('Y2 > 1 in box. Set it to 1. Check that you normalize boxes in [0, 1] range.')\n",
      "/Users/madquer/opt/anaconda3/envs/data/lib/python3.7/site-packages/ensemble_boxes/ensemble_boxes_wbf.py:73: UserWarning: X2 > 1 in box. Set it to 1. Check that you normalize boxes in [0, 1] range.\n",
      "  warnings.warn('X2 > 1 in box. Set it to 1. Check that you normalize boxes in [0, 1] range.')\n",
      "100%|██████████| 2/2 [00:00<00:00, 40.97it/s]\n"
     ]
    }
   ],
   "source": [
    "weights = [1] * 5\n",
    "iou_thr = 0.1\n",
    "skip_box_thr = 0.0\n",
    "sigma = 0.1\n",
    "\n",
    "fnl = {}\n",
    "\n",
    "for i in tqdm(boxes_dict.keys()):\n",
    "    boxes, scores, labels = weighted_boxes_fusion(boxes_dict[i], \n",
    "                                                  scores_dict[i], \n",
    "                                                  labels_dict[i],\n",
    "                                                  weights=weights,\n",
    "                                                  iou_thr=iou_thr,\n",
    "                                                  skip_box_thr=skip_box_thr)\n",
    "    if not i in fnl.keys():\n",
    "        fnl[i] = {'boxes':[],\n",
    "                  'scores':[],\n",
    "                  'labels':[]}\n",
    "    fnl[i]['boxes'] = boxes * whwh_dict[i]\n",
    "    fnl[i]['scores'] = scores\n",
    "    fnl[i]['labels'] = labels"
   ]
  },
  {
   "cell_type": "code",
   "execution_count": 343,
   "id": "certain-administration",
   "metadata": {},
   "outputs": [
    {
     "data": {
      "text/plain": [
       "{'51759b5579bc_image': {'boxes': array([[ 210.33032566, 1679.76399064, 1016.00985736, 2466.04010761],\n",
       "         [1855.6100015 , 1400.71262866, 2625.15239453, 2187.25230396],\n",
       "         [2111.33348608,  865.32374024, 2408.09800994, 1194.14634705],\n",
       "         [ 781.99959111,  607.57350549, 1003.33502564,  854.46213037],\n",
       "         [ 290.57929485,  807.93886185,  842.25571695, 1848.41159284],\n",
       "         [1776.        ,  834.        , 1881.        ,  979.        ],\n",
       "         [ 406.        , 1504.        ,  640.        , 1716.        ],\n",
       "         [  50.56755183,    0.        , 1114.13515744,  456.28881678],\n",
       "         [ 328.        , 2380.        , 1386.        , 2850.        ],\n",
       "         [2549.        ,   18.        , 2844.        ,  858.        ],\n",
       "         [   0.        , 2797.        ,  345.        , 2850.        ]]),\n",
       "  'scores': array([0.01185822, 0.01163729, 0.00703584, 0.00573291, 0.0017928 ,\n",
       "         0.00070343, 0.00046921, 0.00046558, 0.00043221, 0.00038586,\n",
       "         0.00023346]),\n",
       "  'labels': array([0., 0., 0., 0., 0., 0., 0., 0., 0., 0., 0.])},\n",
       " '65761e66de9f_image': {'boxes': array([[1856.00560725,  749.09269008, 2327.05271363, 1492.65063721],\n",
       "         [ 704.63086963,  702.46406487, 1261.08484089, 1403.44964373],\n",
       "         [1830.92242539,  258.62289483, 2189.20631647,  642.71257009],\n",
       "         [1930.        ,  637.        , 2120.        ,  837.        ]]),\n",
       "  'scores': array([0.02341251, 0.02107616, 0.00329485, 0.00022717]),\n",
       "  'labels': array([0., 0., 0., 0.])}}"
      ]
     },
     "execution_count": 343,
     "metadata": {},
     "output_type": "execute_result"
    }
   ],
   "source": [
    "fnl"
   ]
  },
  {
   "cell_type": "code",
   "execution_count": 344,
   "id": "mexican-guinea",
   "metadata": {},
   "outputs": [],
   "source": [
    "pd_form = []\n",
    "for i in fnl.keys():\n",
    "    b = fnl[i] # image_id\n",
    "    for j in range(len(b['boxes'])):\n",
    "        pd_form.append([i, \n",
    "                        int(b['labels'][j]), float(b['scores'][j]),\n",
    "                        int(b['boxes'][j][0]), int(b['boxes'][j][1]),\n",
    "                        int(b['boxes'][j][2]), int(b['boxes'][j][3])])\n",
    "final_df = pd.DataFrame(pd_form, columns = ['image_id', 'class_id', 'score',\n",
    "                                            'x_min', 'y_min' ,'x_max', 'y_max'])\n",
    "final_df = final_df.drop_duplicates(keep = 'first')\n",
    "        \n",
    "# 왜 confidence score 를 round 처리 하지? 하고 안하고 점수 차이를 비교해봐야겠다."
   ]
  },
  {
   "cell_type": "code",
   "execution_count": 345,
   "id": "false-madagascar",
   "metadata": {},
   "outputs": [
    {
     "name": "stderr",
     "output_type": "stream",
     "text": [
      "100%|██████████| 2/2 [00:00<00:00, 1370.02it/s]\n"
     ]
    },
    {
     "data": {
      "text/html": [
       "<div>\n",
       "<style scoped>\n",
       "    .dataframe tbody tr th:only-of-type {\n",
       "        vertical-align: middle;\n",
       "    }\n",
       "\n",
       "    .dataframe tbody tr th {\n",
       "        vertical-align: top;\n",
       "    }\n",
       "\n",
       "    .dataframe thead th {\n",
       "        text-align: right;\n",
       "    }\n",
       "</style>\n",
       "<table border=\"1\" class=\"dataframe\">\n",
       "  <thead>\n",
       "    <tr style=\"text-align: right;\">\n",
       "      <th></th>\n",
       "      <th>image_id</th>\n",
       "      <th>PredictionString</th>\n",
       "    </tr>\n",
       "  </thead>\n",
       "  <tbody>\n",
       "    <tr>\n",
       "      <th>0</th>\n",
       "      <td>51759b5579bc_image</td>\n",
       "      <td>0 0.011858216486871243 210 1679 1016 2466 0 0....</td>\n",
       "    </tr>\n",
       "    <tr>\n",
       "      <th>1</th>\n",
       "      <td>65761e66de9f_image</td>\n",
       "      <td>0 0.023412512615323067 1856 749 2327 1492 0 0....</td>\n",
       "    </tr>\n",
       "  </tbody>\n",
       "</table>\n",
       "</div>"
      ],
      "text/plain": [
       "             image_id                                   PredictionString\n",
       "0  51759b5579bc_image  0 0.011858216486871243 210 1679 1016 2466 0 0....\n",
       "1  65761e66de9f_image  0 0.023412512615323067 1856 749 2327 1492 0 0...."
      ]
     },
     "execution_count": 345,
     "metadata": {},
     "output_type": "execute_result"
    }
   ],
   "source": [
    "def submission_encoder(df:pd.DataFrame) -> np.ndarray:\n",
    "    dct = {}\n",
    "    for i in tqdm(df['image_id'].unique()):\n",
    "        if not i in dct.keys():\n",
    "            dct[i] = []\n",
    "        tmp = df[df['image_id']==i].values\n",
    "        for j in tmp:\n",
    "            dct[i].append(int(j[1]))\n",
    "            dct[i].append(float(j[2]))\n",
    "            dct[i].append(int(j[3]))\n",
    "            dct[i].append(int(j[4]))\n",
    "            dct[i].append(int(j[5]))\n",
    "            dct[i].append(int(j[6]))\n",
    "        dct[i] = map(str, dct[i])\n",
    "        dct[i] = ' '.join(dct[i])\n",
    "    dct = [[k,v] for k, v in dct.items()]\n",
    "    return pd.DataFrame(dct, columns = ['image_id', 'PredictionString']).reset_index(drop=True)\n",
    "\n",
    "df = submission_encoder(final_df)\n",
    "df"
   ]
  },
  {
   "cell_type": "code",
   "execution_count": 346,
   "id": "collaborative-consumption",
   "metadata": {},
   "outputs": [
    {
     "data": {
      "text/plain": [
       "'0 0.011858216486871243 210 1679 1016 2466 0 0.011637290939688683 1855 1400 2625 2187 0 0.007035835646092892 2111 865 2408 1194 0 0.005732913967221975 781 607 1003 854 0 0.0017928010784089565 290 807 842 1848 0 0.0007034299896 1775 834 1881 978 0 0.0004692079966 406 1504 640 1716 0 0.0004655839875340462 50 0 1114 456 0 0.00043220599180000005 328 2380 1386 2850 0 0.0003858559998 2549 18 2844 858 0 0.0002334600082 0 2797 345 2850'"
      ]
     },
     "execution_count": 346,
     "metadata": {},
     "output_type": "execute_result"
    }
   ],
   "source": [
    "df.loc[0, 'PredictionString']"
   ]
  },
  {
   "cell_type": "code",
   "execution_count": 347,
   "id": "native-hayes",
   "metadata": {},
   "outputs": [
    {
     "data": {
      "text/plain": [
       "'0 0.011858216486871243 210 1679 1016 2466 0 0.011637290939688683 1855 1400 2625 2187 0 0.007035835646092892 2111 865 2408 1194 0 0.005732913967221975 781 607 1003 854 0 0.0017928010784089565 290 807 842 1848 0 0.0007034299896 1775 834 1881 978 0 0.0004692079966 406 1504 640 1716 0 0.0004655839875340462 50 0 1114 456 0 0.00043220599180000005 328 2380 1386 2850 0 0.0003858559998 2549 18 2844 858 0 0.0002334600082 0 2797 345 2850'"
      ]
     },
     "execution_count": 347,
     "metadata": {},
     "output_type": "execute_result"
    }
   ],
   "source": [
    "df.loc[0, 'PredictionString']"
   ]
  },
  {
   "cell_type": "code",
   "execution_count": 348,
   "id": "animated-repeat",
   "metadata": {},
   "outputs": [],
   "source": [
    "more = False\n",
    "if more:\n",
    "    NORMAL = \"14 1 0 0 1 1\"\n",
    "    low_threshold = 0.00\n",
    "    high_threshold = 0.99\n",
    "    pred_det_df = df  # You can load from another submission.csv here too.\n",
    "    n_normal_before = len(pred_det_df.query(\"PredictionString == @NORMAL\"))\n",
    "    merged_df = pd.merge(pred_det_df, pred_2cls, on=\"image_id\", how=\"left\")\n",
    "\n",
    "    if \"target\" in merged_df.columns:\n",
    "        merged_df[\"class0\"] = 1 - merged_df[\"target\"]\n",
    "\n",
    "    c0, c1, c2 = 0, 0, 0\n",
    "    for i in range(len(merged_df)):\n",
    "        p0 = merged_df.loc[i, \"class0\"]\n",
    "        if p0 < low_threshold:\n",
    "            # Keep, do nothing.\n",
    "            c0 += 1\n",
    "        elif low_threshold <= p0 and p0 < high_threshold:\n",
    "            # Add, keep \"det\" preds and add normal pred.\n",
    "            if ' 14 ' not in merged_df.loc[i, \"PredictionString\"]:\n",
    "                merged_df.loc[i, \"PredictionString\"] += f\" 14 {p0} 0 0 1 1\"\n",
    "\n",
    "            c1 += 1\n",
    "        else:\n",
    "            # Replace, remove all \"det\" preds.\n",
    "            merged_df.loc[i, \"PredictionString\"] = NORMAL\n",
    "            c2 += 1\n",
    "\n",
    "    n_normal_after = len(merged_df.query(\"PredictionString == @NORMAL\"))\n",
    "    print(\n",
    "        f\"n_normal: {n_normal_before} -> {n_normal_after} with threshold {low_threshold} & {high_threshold}\"\n",
    "    )\n",
    "    print(f\"Keep {c0} Add {c1} Replace {c2}\")\n",
    "    submission_filepath = str(\"submission.csv\")\n",
    "    submission_df = merged_df[[\"image_id\", \"PredictionString\"]]\n",
    "    submission_df.to_csv(submission_filepath, index=False)\n",
    "    print(f\"Saved to {submission_filepath}\")"
   ]
  },
  {
   "cell_type": "code",
   "execution_count": null,
   "id": "incomplete-windsor",
   "metadata": {},
   "outputs": [],
   "source": []
  },
  {
   "cell_type": "code",
   "execution_count": null,
   "id": "allied-corruption",
   "metadata": {},
   "outputs": [],
   "source": []
  },
  {
   "cell_type": "code",
   "execution_count": null,
   "id": "finnish-assault",
   "metadata": {},
   "outputs": [],
   "source": []
  },
  {
   "cell_type": "code",
   "execution_count": null,
   "id": "nonprofit-accommodation",
   "metadata": {},
   "outputs": [],
   "source": []
  },
  {
   "cell_type": "code",
   "execution_count": null,
   "id": "incredible-satisfaction",
   "metadata": {},
   "outputs": [],
   "source": []
  },
  {
   "cell_type": "code",
   "execution_count": null,
   "id": "comprehensive-paper",
   "metadata": {},
   "outputs": [],
   "source": []
  },
  {
   "cell_type": "code",
   "execution_count": null,
   "id": "comfortable-garden",
   "metadata": {},
   "outputs": [],
   "source": []
  },
  {
   "cell_type": "code",
   "execution_count": null,
   "id": "herbal-strategy",
   "metadata": {},
   "outputs": [],
   "source": []
  },
  {
   "cell_type": "code",
   "execution_count": null,
   "id": "relative-wrong",
   "metadata": {},
   "outputs": [],
   "source": []
  },
  {
   "cell_type": "code",
   "execution_count": null,
   "id": "primary-enhancement",
   "metadata": {},
   "outputs": [],
   "source": []
  },
  {
   "cell_type": "code",
   "execution_count": null,
   "id": "rising-gardening",
   "metadata": {},
   "outputs": [],
   "source": []
  }
 ],
 "metadata": {
  "kernelspec": {
   "display_name": "Python 3",
   "language": "python",
   "name": "python3"
  },
  "language_info": {
   "codemirror_mode": {
    "name": "ipython",
    "version": 3
   },
   "file_extension": ".py",
   "mimetype": "text/x-python",
   "name": "python",
   "nbconvert_exporter": "python",
   "pygments_lexer": "ipython3",
   "version": "3.7.9"
  },
  "varInspector": {
   "cols": {
    "lenName": 16,
    "lenType": 16,
    "lenVar": 40
   },
   "kernels_config": {
    "python": {
     "delete_cmd_postfix": "",
     "delete_cmd_prefix": "del ",
     "library": "var_list.py",
     "varRefreshCmd": "print(var_dic_list())"
    },
    "r": {
     "delete_cmd_postfix": ") ",
     "delete_cmd_prefix": "rm(",
     "library": "var_list.r",
     "varRefreshCmd": "cat(var_dic_list()) "
    }
   },
   "types_to_exclude": [
    "module",
    "function",
    "builtin_function_or_method",
    "instance",
    "_Feature"
   ],
   "window_display": false
  }
 },
 "nbformat": 4,
 "nbformat_minor": 5
}
